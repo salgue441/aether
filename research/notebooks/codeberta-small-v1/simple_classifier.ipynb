{
 "cells": [
  {
   "cell_type": "markdown",
   "id": "f3602973",
   "metadata": {},
   "source": [
    "## Æther: Pipeline\n"
   ]
  },
  {
   "cell_type": "code",
   "execution_count": 47,
   "id": "c5b7b193",
   "metadata": {},
   "outputs": [
    {
     "name": "stdout",
     "output_type": "stream",
     "text": [
      "Using device: cuda\n"
     ]
    }
   ],
   "source": [
    "import os\n",
    "import torch\n",
    "import pandas as pd\n",
    "import numpy as np\n",
    "from pathlib import Path\n",
    "from transformers import AutoTokenizer, AutoModel\n",
    "from datasets import Dataset\n",
    "from tqdm import tqdm\n",
    "from sklearn.model_selection import train_test_split\n",
    "from sklearn.metrics import confusion_matrix, classification_report\n",
    "import matplotlib.pyplot as plt\n",
    "from sklearn.metrics import ConfusionMatrixDisplay\n",
    "\n",
    "# Check for GPU availability\n",
    "device = torch.device(\"cuda\" if torch.cuda.is_available() else \"cpu\")\n",
    "print(f\"Using device: {device}\")"
   ]
  },
  {
   "cell_type": "code",
   "execution_count": 48,
   "id": "8e053705",
   "metadata": {},
   "outputs": [],
   "source": [
    "tokenizer = AutoTokenizer.from_pretrained(\"huggingface/CodeBERTa-small-v1\")\n",
    "embedding_model = AutoModel.from_pretrained(\"huggingface/CodeBERTa-small-v1\").to(device)"
   ]
  },
  {
   "cell_type": "code",
   "execution_count": 49,
   "id": "27d252d5",
   "metadata": {},
   "outputs": [],
   "source": [
    "def loadDataset(datasets: list[tuple[str, str]]):\n",
    "    \"\"\"Load dataset more efficiently by reading unique files only once\n",
    "\n",
    "    Args:\n",
    "        datasets (list[tuple[str, str]]): List of tuples containing the path to the labels file and the base directory of the files.\n",
    "    Returns:\n",
    "        pd.DataFrame: DataFrame containing the loaded data.\n",
    "    \"\"\"\n",
    "\n",
    "    columns = [\"id1\", \"id2\", \"plagio\", \"file1\", \"file2\"]\n",
    "\n",
    "    df = pd.DataFrame(columns=columns)\n",
    "\n",
    "    for labels_path, base_dir in datasets:\n",
    "        labels_path = Path(labels_path)\n",
    "        base_dir = Path(base_dir)\n",
    "\n",
    "        # Validate paths\n",
    "        if not labels_path.exists() or not labels_path.is_file():\n",
    "            raise FileNotFoundError(f\"Labels file not found: {labels_path}\")\n",
    "        if not base_dir.exists() or not base_dir.is_dir():\n",
    "            raise FileNotFoundError(f\"Base directory not found: {base_dir}\")\n",
    "\n",
    "        # Load labels\n",
    "        df2 = pd.read_csv(labels_path)\n",
    "        \n",
    "        # ensure ids are strings\n",
    "        df2[\"id1\"] = df2[\"id1\"].astype(str)\n",
    "        df2[\"id2\"] = df2[\"id2\"].astype(str)\n",
    "\n",
    "        # Ensure label is an integer\n",
    "        df2[\"plagio\"] = df2[\"plagio\"].astype(int)\n",
    "\n",
    "\n",
    "        # Get unique file IDs to load only once\n",
    "        unique_ids = pd.concat([df2[\"id1\"], df2[\"id2\"]]).unique()\n",
    "\n",
    "        # Load files in one pass\n",
    "        files = {}\n",
    "        for file_id in tqdm(unique_ids, desc=\"Loading files\"):\n",
    "            path = base_dir / f\"{file_id}.java\"\n",
    "            if path.exists():\n",
    "                try:\n",
    "                    files[file_id] = path.read_text(encoding=\"utf-8\")\n",
    "                except UnicodeDecodeError:\n",
    "                    files[file_id] = path.read_text(encoding=\"latin-1\")\n",
    "            else:\n",
    "                raise FileNotFoundError(f\"File not found: {path}\")\n",
    "\n",
    "        # Map files to dataframe\n",
    "        df2[\"file1\"] = df2[\"id1\"].map(files)\n",
    "        df2[\"file2\"] = df2[\"id2\"].map(files)\n",
    "\n",
    "        # Append to main dataframe\n",
    "        df = pd.concat([df, df2[columns]], ignore_index=True)\n",
    "\n",
    "    return df"
   ]
  },
  {
   "cell_type": "code",
   "execution_count": 50,
   "id": "826d2ffa",
   "metadata": {},
   "outputs": [],
   "source": [
    "def embed_batch(texts, batch_size=16):\n",
    "    \"\"\"Custom embedding function that minimizes GPU transfers\"\"\"\n",
    "    all_embeddings = []\n",
    "\n",
    "    # Process in batches to avoid OOM issues\n",
    "    for i in tqdm(range(0, len(texts), batch_size), desc=\"Embedding batches\"):\n",
    "        batch_texts = texts[i : i + batch_size]\n",
    "\n",
    "        # Tokenize on CPU\n",
    "        inputs = tokenizer(\n",
    "            batch_texts, padding=\"longest\", truncation=True, return_tensors=\"pt\"\n",
    "        )\n",
    "\n",
    "        # Transfer to GPU only once per batch\n",
    "        inputs = {k: v.to(device) for k, v in inputs.items()}\n",
    "\n",
    "        # Get embeddings (no gradient needed)\n",
    "        with torch.no_grad():\n",
    "            outputs = embedding_model(**inputs)\n",
    "\n",
    "        # Use mean pooling of last hidden state as embedding\n",
    "        # Taking mean across token dimension (dim=1)\n",
    "        # embeddings = torch.mean(outputs.last_hidden_state, dim=1)\n",
    "        \n",
    "        # Use CLS token as embedding\n",
    "        embeddings = outputs.pooler_output\n",
    "\n",
    "        # Move back to CPU and convert to numpy only once per batch\n",
    "        all_embeddings.append(embeddings.cpu().numpy())\n",
    "\n",
    "    # Stack all batch results\n",
    "    return np.vstack(all_embeddings) if all_embeddings else np.array([])\n",
    "\n",
    "def embed(text):\n",
    "    \"\"\"Embed a single text input\"\"\"\n",
    "    inputs = tokenizer(\n",
    "        text, truncation=True, return_tensors=\"pt\"\n",
    "    )\n",
    "    inputs = {k: v.to(device) for k, v in inputs.items()}\n",
    "\n",
    "    with torch.no_grad():\n",
    "        outputs = embedding_model(**inputs)\n",
    "\n",
    "    # Use mean pooling of last hidden state as embedding\n",
    "    embeddings = torch.mean(outputs.last_hidden_state, dim=1)[0]\n",
    "    return embeddings.cpu().numpy()\n"
   ]
  },
  {
   "cell_type": "code",
   "execution_count": 51,
   "id": "64f1abbf",
   "metadata": {},
   "outputs": [],
   "source": [
    "def embed_dataset(dataset):\n",
    "    \"\"\"Process dataset by embedding unique files only once\"\"\"\n",
    "    # Extract all unique files to embed\n",
    "    all_files = []\n",
    "    file_to_idx = {}\n",
    "\n",
    "    # Create list of unique files\n",
    "    unique_files = set()\n",
    "    for file1, file2 in zip(dataset[\"file1\"], dataset[\"file2\"]):\n",
    "        unique_files.add(file1)\n",
    "        unique_files.add(file2)\n",
    "\n",
    "    # Convert to list and create mapping\n",
    "    all_files = list(unique_files)\n",
    "    file_to_idx = {file: idx for idx, file in enumerate(all_files)}\n",
    "\n",
    "    print(f\"Embedding {len(all_files)} unique files...\")\n",
    "\n",
    "    # Embed all unique files at once\n",
    "    all_embeddings = embed_batch(all_files, 128)\n",
    "\n",
    "    # Create a dict mapping from file content to embedding\n",
    "    file_to_embedding = {file: all_embeddings[idx] for file, idx in file_to_idx.items()}\n",
    "\n",
    "    # Create a map function to add embeddings\n",
    "    def add_embeddings(example):\n",
    "        return {\n",
    "            \"embeddedFile1\": file_to_embedding[example[\"file1\"]],\n",
    "            \"embeddedFile2\": file_to_embedding[example[\"file2\"]],\n",
    "        }\n",
    "\n",
    "    # Use dataset.map() to add the embedded columns\n",
    "    return dataset.map(add_embeddings)"
   ]
  },
  {
   "cell_type": "code",
   "execution_count": 52,
   "id": "0c03e832",
   "metadata": {},
   "outputs": [],
   "source": [
    "def find_optimal_threshold(y_true, y_scores):\n",
    "    \"\"\"\n",
    "    Find the optimal threshold for binary classification using ROC curve.\n",
    "    \"\"\"\n",
    "    from sklearn.metrics import roc_curve\n",
    "\n",
    "    fpr, tpr, thresholds = roc_curve(y_true, y_scores)\n",
    "    optimal_idx = np.argmax(tpr - fpr)\n",
    "    optimal_threshold = thresholds[optimal_idx]\n",
    "    return optimal_threshold\n",
    "\n",
    "\n",
    "def evaluate_model(df, threshold=None, balance_classes=True):\n",
    "    if threshold is None:\n",
    "        threshold = find_optimal_threshold(\n",
    "            df[\"plagio\"].values,\n",
    "            df[\"similarity\"].values,\n",
    "        )\n",
    "        print(f\"Optimal threshold: {threshold:.2f}\")\n",
    "\n",
    "    df[\"predicted\"] = df[\"similarity\"].apply(lambda x: 1 if x > threshold else 0)\n",
    "\n",
    "    report = classification_report(df[\"plagio\"], df[\"predicted\"])\n",
    "    print(report)\n",
    "\n",
    "    cm = confusion_matrix(df[\"plagio\"], df[\"predicted\"])\n",
    "\n",
    "    # Plot the confusion matrix\n",
    "    disp = ConfusionMatrixDisplay(\n",
    "        confusion_matrix=cm, display_labels=[\"Not Plagiarized\", \"Plagiarized\"]\n",
    "    )\n",
    "    disp.plot(\n",
    "        cmap=plt.cm.Blues,\n",
    "        colorbar=False,\n",
    "        ax=plt.gca(),\n",
    "    )\n",
    "    plt.title(\"Confusion Matrix\")\n",
    "    plt.show()\n",
    "\n",
    "    # Plot the distribution of the similarity scores\n",
    "    plt.figure(figsize=(10, 7))\n",
    "    plt.hist(\n",
    "        df[\"similarity\"], bins=50, alpha=0.7, color=\"blue\", label=\"Similarity Scores\"\n",
    "    )\n",
    "    plt.axvline(threshold, color=\"red\", linestyle=\"--\")\n",
    "    plt.xlabel(\"Similarity Score\")\n",
    "    plt.ylabel(\"Frequency\")\n",
    "    plt.title(\"Distribution of Similarity Scores\")\n",
    "    plt.show()"
   ]
  },
  {
   "cell_type": "code",
   "execution_count": 53,
   "id": "d9ccbf79",
   "metadata": {},
   "outputs": [
    {
     "name": "stdout",
     "output_type": "stream",
     "text": [
      "Loading dataset...\n"
     ]
    },
    {
     "name": "stderr",
     "output_type": "stream",
     "text": [
      "Loading files: 100%|██████████| 975/975 [00:00<00:00, 33499.73it/s]\n",
      "Loading files: 100%|██████████| 460/460 [00:00<00:00, 35279.12it/s]\n"
     ]
    },
    {
     "name": "stdout",
     "output_type": "stream",
     "text": [
      "Processing dataset...\n",
      "Embedding 1393 unique files...\n"
     ]
    },
    {
     "name": "stderr",
     "output_type": "stream",
     "text": [
      "Embedding batches: 100%|██████████| 11/11 [00:17<00:00,  1.58s/it]\n",
      "Map: 100%|██████████| 1371/1371 [00:00<00:00, 10075.43 examples/s]\n"
     ]
    }
   ],
   "source": [
    "# Define paths\n",
    "LABELS_PATH = Path(\"../../labels\")\n",
    "CONPLAG_LABEL_PATH = LABELS_PATH / \"conplag_labels.csv\"\n",
    "IR_PLAG_LABEL_PATH = LABELS_PATH / \"ir_plag_labels.csv\"\n",
    "\n",
    "BASE_DIR = Path(\"../../datasets\")\n",
    "CONPLAG_BASE_DIR = BASE_DIR / \"conplag_preprocesed\"\n",
    "IR_PLAG_BASE_DIR = BASE_DIR / \"ir_plag_preprocessed\"\n",
    "\n",
    "\n",
    "# Load the dataset\n",
    "print(\"Loading dataset...\")\n",
    "df2 = loadDataset(\n",
    "    [(CONPLAG_LABEL_PATH, CONPLAG_BASE_DIR), (IR_PLAG_LABEL_PATH, IR_PLAG_BASE_DIR)]\n",
    ")\n",
    "\n",
    "dataset = Dataset.from_pandas(df2)\n",
    "\n",
    "# Process dataset (embed files)\n",
    "print(\"Processing dataset...\")\n",
    "embedded_dataset = embed_dataset(dataset)"
   ]
  },
  {
   "cell_type": "code",
   "execution_count": 54,
   "id": "ae73d345",
   "metadata": {},
   "outputs": [
    {
     "name": "stdout",
     "output_type": "stream",
     "text": [
      "Splitting dataset...\n",
      "Train, validation, and test datasets prepared.\n",
      "Length of train set: 1096, Length of validation set: 138, Length of test set: 137\n",
      "Input dimension: 768\n"
     ]
    }
   ],
   "source": [
    "# Split dataset into train, validation, and test sets\n",
    "# 80% train, 10% validation, 10% test\n",
    "print(\"Splitting dataset...\")\n",
    "\n",
    "df2 = embedded_dataset.to_pandas()\n",
    "\n",
    "X = np.array([np.subtract(row[\"embeddedFile1\"], row[\"embeddedFile2\"]) \n",
    "              for _, row in df2.iterrows()], dtype=np.float32)\n",
    "\n",
    "Y = df2[\"plagio\"].values.astype(np.float32)\n",
    "\n",
    "\n",
    "# Split the combined dataset\n",
    "X_train, X_temp, Y_train, Y_temp = train_test_split(X, Y, test_size=0.2, random_state=42)\n",
    "X_test, X_val, Y_test, Y_val = train_test_split(X_temp, Y_temp, test_size=0.5, random_state=42)\n",
    "\n",
    "print(\"Train, validation, and test datasets prepared.\")\n",
    "print(f\"Length of train set: {len(Y_train)}, Length of validation set: {len(Y_val)}, Length of test set: {len(Y_test)}\")\n",
    "print(f\"Input dimension: {X_train.shape[1]}\")\n"
   ]
  },
  {
   "cell_type": "code",
   "execution_count": 116,
   "id": "49bee81c",
   "metadata": {},
   "outputs": [
    {
     "name": "stdout",
     "output_type": "stream",
     "text": [
      "Input dimension: 768\n"
     ]
    }
   ],
   "source": [
    "input_dim = X_train.shape[1]\n",
    "\n",
    "print(f\"Input dimension: {input_dim}\")\n",
    "\n",
    "model = torch.nn.Sequential(\n",
    "    torch.nn.Linear(input_dim, 32),\n",
    "    torch.nn.ReLU(),\n",
    "    torch.nn.Dropout(0.6),\n",
    "    torch.nn.Linear(32, 16),\n",
    "    torch.nn.ReLU(),\n",
    "    torch.nn.Dropout(0.6),\n",
    "    torch.nn.Linear(16, 1),\n",
    "    torch.nn.Sigmoid(),\n",
    ").to(device)\n",
    "\n",
    "optimizer = torch.optim.Adam(model.parameters(), lr=0.001, weight_decay=0.0001)\n",
    "criterion = torch.nn.BCELoss()"
   ]
  },
  {
   "cell_type": "code",
   "execution_count": null,
   "id": "ffe87627",
   "metadata": {},
   "outputs": [],
   "source": [
    "num_epochs = 100\n",
    "batch_size = 32"
   ]
  },
  {
   "cell_type": "code",
   "execution_count": 122,
   "id": "e3255291",
   "metadata": {},
   "outputs": [
    {
     "name": "stdout",
     "output_type": "stream",
     "text": [
      "Epoch [1/100], Loss: 0.2972, Val Loss: 1.5209, Val Accuracy: 0.8623\n",
      "Epoch [2/100], Loss: 0.1217, Val Loss: 1.5852, Val Accuracy: 0.8551\n",
      "Epoch [3/100], Loss: 0.4964, Val Loss: 1.6128, Val Accuracy: 0.8551\n",
      "Epoch [4/100], Loss: 0.0385, Val Loss: 1.6316, Val Accuracy: 0.8551\n",
      "Epoch [5/100], Loss: 0.0507, Val Loss: 1.6369, Val Accuracy: 0.8623\n",
      "Epoch [6/100], Loss: 0.0432, Val Loss: 1.6209, Val Accuracy: 0.8696\n",
      "Epoch [7/100], Loss: 0.0976, Val Loss: 1.6258, Val Accuracy: 0.8623\n",
      "Epoch [8/100], Loss: 0.0952, Val Loss: 1.6025, Val Accuracy: 0.8623\n",
      "Epoch [9/100], Loss: 0.1073, Val Loss: 1.6119, Val Accuracy: 0.8551\n",
      "Epoch [10/100], Loss: 0.1311, Val Loss: 1.6173, Val Accuracy: 0.8551\n",
      "Epoch [11/100], Loss: 0.0679, Val Loss: 1.6553, Val Accuracy: 0.8551\n",
      "Epoch [12/100], Loss: 0.1161, Val Loss: 1.6867, Val Accuracy: 0.8623\n",
      "Epoch [13/100], Loss: 0.2334, Val Loss: 1.6742, Val Accuracy: 0.8551\n",
      "Epoch [14/100], Loss: 0.0468, Val Loss: 1.6265, Val Accuracy: 0.8551\n",
      "Epoch [15/100], Loss: 0.0656, Val Loss: 1.6533, Val Accuracy: 0.8478\n",
      "Epoch [16/100], Loss: 0.2094, Val Loss: 1.6370, Val Accuracy: 0.8623\n",
      "Epoch [17/100], Loss: 0.5165, Val Loss: 1.6789, Val Accuracy: 0.8551\n",
      "Epoch [18/100], Loss: 0.0924, Val Loss: 1.6704, Val Accuracy: 0.8623\n",
      "Epoch [19/100], Loss: 0.1085, Val Loss: 1.6866, Val Accuracy: 0.8696\n",
      "Epoch [20/100], Loss: 0.2064, Val Loss: 1.6808, Val Accuracy: 0.8696\n",
      "Epoch [21/100], Loss: 0.1108, Val Loss: 1.7086, Val Accuracy: 0.8696\n",
      "Epoch [22/100], Loss: 0.0599, Val Loss: 1.7439, Val Accuracy: 0.8623\n",
      "Epoch [23/100], Loss: 0.0605, Val Loss: 1.6835, Val Accuracy: 0.8768\n",
      "Epoch [24/100], Loss: 0.1818, Val Loss: 1.6618, Val Accuracy: 0.8623\n",
      "Epoch [25/100], Loss: 0.2877, Val Loss: 1.7446, Val Accuracy: 0.8551\n",
      "Epoch [26/100], Loss: 0.2643, Val Loss: 1.6987, Val Accuracy: 0.8623\n",
      "Epoch [27/100], Loss: 0.0307, Val Loss: 1.6816, Val Accuracy: 0.8768\n",
      "Epoch [28/100], Loss: 0.0420, Val Loss: 1.6949, Val Accuracy: 0.8768\n",
      "Epoch [29/100], Loss: 0.0738, Val Loss: 1.7167, Val Accuracy: 0.8623\n",
      "Epoch [30/100], Loss: 0.1631, Val Loss: 1.6797, Val Accuracy: 0.8768\n",
      "Epoch [31/100], Loss: 0.2864, Val Loss: 1.7198, Val Accuracy: 0.8841\n",
      "Epoch [32/100], Loss: 0.0263, Val Loss: 1.7597, Val Accuracy: 0.8623\n",
      "Epoch [33/100], Loss: 0.0635, Val Loss: 1.8452, Val Accuracy: 0.8623\n",
      "Epoch [34/100], Loss: 0.3744, Val Loss: 1.8549, Val Accuracy: 0.8696\n",
      "Epoch [35/100], Loss: 0.0754, Val Loss: 1.8621, Val Accuracy: 0.8696\n",
      "Epoch [36/100], Loss: 0.1230, Val Loss: 1.8987, Val Accuracy: 0.8623\n",
      "Epoch [37/100], Loss: 0.0997, Val Loss: 1.8317, Val Accuracy: 0.8623\n",
      "Epoch [38/100], Loss: 0.0413, Val Loss: 1.9143, Val Accuracy: 0.8551\n",
      "Epoch [39/100], Loss: 0.3998, Val Loss: 1.9029, Val Accuracy: 0.8551\n",
      "Epoch [40/100], Loss: 0.1377, Val Loss: 1.8235, Val Accuracy: 0.8623\n",
      "Epoch [41/100], Loss: 0.0199, Val Loss: 1.8292, Val Accuracy: 0.8623\n",
      "Epoch [42/100], Loss: 0.0539, Val Loss: 1.9187, Val Accuracy: 0.8623\n",
      "Epoch [43/100], Loss: 0.0332, Val Loss: 1.9634, Val Accuracy: 0.8696\n",
      "Epoch [44/100], Loss: 0.0721, Val Loss: 1.8656, Val Accuracy: 0.8623\n",
      "Epoch [45/100], Loss: 0.1154, Val Loss: 1.8810, Val Accuracy: 0.8696\n",
      "Epoch [46/100], Loss: 0.1312, Val Loss: 1.8648, Val Accuracy: 0.8696\n",
      "Epoch [47/100], Loss: 0.0709, Val Loss: 1.8601, Val Accuracy: 0.8696\n",
      "Epoch [48/100], Loss: 0.0458, Val Loss: 1.8502, Val Accuracy: 0.8696\n",
      "Epoch [49/100], Loss: 0.0336, Val Loss: 1.8691, Val Accuracy: 0.8696\n",
      "Epoch [50/100], Loss: 0.0409, Val Loss: 1.8657, Val Accuracy: 0.8768\n",
      "Epoch [51/100], Loss: 0.0762, Val Loss: 1.9012, Val Accuracy: 0.8696\n",
      "Epoch [52/100], Loss: 0.0338, Val Loss: 2.0090, Val Accuracy: 0.8623\n",
      "Epoch [53/100], Loss: 0.0579, Val Loss: 1.9880, Val Accuracy: 0.8696\n",
      "Epoch [54/100], Loss: 0.0478, Val Loss: 1.9413, Val Accuracy: 0.8696\n",
      "Epoch [55/100], Loss: 0.2643, Val Loss: 1.9189, Val Accuracy: 0.8696\n",
      "Epoch [56/100], Loss: 0.1082, Val Loss: 1.9417, Val Accuracy: 0.8768\n",
      "Epoch [57/100], Loss: 0.0671, Val Loss: 1.9869, Val Accuracy: 0.8768\n",
      "Epoch [58/100], Loss: 0.2425, Val Loss: 2.0468, Val Accuracy: 0.8696\n",
      "Epoch [59/100], Loss: 0.2029, Val Loss: 2.0402, Val Accuracy: 0.8623\n",
      "Epoch [60/100], Loss: 0.0530, Val Loss: 2.0007, Val Accuracy: 0.8623\n",
      "Epoch [61/100], Loss: 0.4078, Val Loss: 1.9771, Val Accuracy: 0.8696\n",
      "Epoch [62/100], Loss: 0.0989, Val Loss: 2.0041, Val Accuracy: 0.8696\n",
      "Epoch [63/100], Loss: 0.0315, Val Loss: 2.0210, Val Accuracy: 0.8696\n",
      "Epoch [64/100], Loss: 0.0263, Val Loss: 1.9743, Val Accuracy: 0.8768\n",
      "Epoch [65/100], Loss: 0.0545, Val Loss: 2.0035, Val Accuracy: 0.8841\n",
      "Epoch [66/100], Loss: 0.1534, Val Loss: 2.0637, Val Accuracy: 0.8841\n",
      "Epoch [67/100], Loss: 0.2439, Val Loss: 2.0412, Val Accuracy: 0.8696\n",
      "Epoch [68/100], Loss: 0.1310, Val Loss: 2.0640, Val Accuracy: 0.8696\n",
      "Epoch [69/100], Loss: 0.4102, Val Loss: 2.0937, Val Accuracy: 0.8623\n",
      "Epoch [70/100], Loss: 0.3203, Val Loss: 2.0683, Val Accuracy: 0.8768\n",
      "Epoch [71/100], Loss: 0.0456, Val Loss: 2.1185, Val Accuracy: 0.8696\n",
      "Epoch [72/100], Loss: 0.0410, Val Loss: 2.1288, Val Accuracy: 0.8696\n",
      "Epoch [73/100], Loss: 0.0938, Val Loss: 2.1333, Val Accuracy: 0.8623\n",
      "Epoch [74/100], Loss: 0.1206, Val Loss: 2.1064, Val Accuracy: 0.8696\n",
      "Epoch [75/100], Loss: 0.1681, Val Loss: 2.1741, Val Accuracy: 0.8696\n",
      "Epoch [76/100], Loss: 0.1005, Val Loss: 2.1633, Val Accuracy: 0.8696\n",
      "Epoch [77/100], Loss: 0.0879, Val Loss: 2.1555, Val Accuracy: 0.8696\n",
      "Epoch [78/100], Loss: 0.2734, Val Loss: 2.1341, Val Accuracy: 0.8768\n",
      "Epoch [79/100], Loss: 0.1257, Val Loss: 2.1312, Val Accuracy: 0.8696\n",
      "Epoch [80/100], Loss: 0.0511, Val Loss: 2.1489, Val Accuracy: 0.8623\n",
      "Epoch [81/100], Loss: 0.0378, Val Loss: 2.1953, Val Accuracy: 0.8696\n",
      "Epoch [82/100], Loss: 0.0392, Val Loss: 2.2397, Val Accuracy: 0.8696\n",
      "Epoch [83/100], Loss: 0.2194, Val Loss: 2.2104, Val Accuracy: 0.8768\n",
      "Epoch [84/100], Loss: 0.0761, Val Loss: 2.1802, Val Accuracy: 0.8768\n",
      "Epoch [85/100], Loss: 0.0483, Val Loss: 2.1509, Val Accuracy: 0.8768\n",
      "Epoch [86/100], Loss: 0.4771, Val Loss: 2.1692, Val Accuracy: 0.8768\n",
      "Epoch [87/100], Loss: 0.0297, Val Loss: 2.1688, Val Accuracy: 0.8696\n",
      "Epoch [88/100], Loss: 0.1896, Val Loss: 2.1781, Val Accuracy: 0.8696\n",
      "Epoch [89/100], Loss: 0.7762, Val Loss: 2.1957, Val Accuracy: 0.8623\n",
      "Epoch [90/100], Loss: 0.0273, Val Loss: 2.1597, Val Accuracy: 0.8696\n",
      "Epoch [91/100], Loss: 0.0619, Val Loss: 2.2098, Val Accuracy: 0.8623\n",
      "Epoch [92/100], Loss: 0.3259, Val Loss: 2.2306, Val Accuracy: 0.8623\n",
      "Epoch [93/100], Loss: 0.0661, Val Loss: 2.2230, Val Accuracy: 0.8623\n",
      "Epoch [94/100], Loss: 0.2472, Val Loss: 2.1925, Val Accuracy: 0.8623\n",
      "Epoch [95/100], Loss: 0.5450, Val Loss: 2.1908, Val Accuracy: 0.8623\n",
      "Epoch [96/100], Loss: 0.2351, Val Loss: 2.1660, Val Accuracy: 0.8696\n",
      "Epoch [97/100], Loss: 0.0295, Val Loss: 2.1632, Val Accuracy: 0.8768\n",
      "Epoch [98/100], Loss: 0.0472, Val Loss: 2.2113, Val Accuracy: 0.8696\n",
      "Epoch [99/100], Loss: 0.0302, Val Loss: 2.1925, Val Accuracy: 0.8551\n",
      "Epoch [100/100], Loss: 0.2245, Val Loss: 2.2744, Val Accuracy: 0.8551\n"
     ]
    }
   ],
   "source": [
    "\n",
    "\n",
    "# Training loop\n",
    "for epoch in range(num_epochs):\n",
    "    model.train()\n",
    "    for i in range(0, len(X_train), batch_size):\n",
    "        batch_X = torch.tensor(X_train[i : i + batch_size]).to(device)\n",
    "        batch_Y = torch.tensor(Y_train[i : i + batch_size]).to(device).unsqueeze(1)\n",
    "\n",
    "        optimizer.zero_grad()\n",
    "        outputs = model(batch_X)\n",
    "        loss = criterion(outputs, batch_Y)\n",
    "        loss.backward()\n",
    "        optimizer.step()\n",
    "\n",
    "    # Validation loop\n",
    "    model.eval()\n",
    "    with torch.no_grad():\n",
    "        val_X = torch.tensor(X_val).to(device)\n",
    "        val_Y = torch.tensor(Y_val).to(device).unsqueeze(1)\n",
    "        val_outputs = model(val_X)\n",
    "        val_loss = criterion(val_outputs, val_Y)\n",
    "        val_predictions = (val_outputs > 0.5).float()\n",
    "        val_accuracy = (val_predictions == val_Y).float().mean()\n",
    "        print(f\"Epoch [{epoch + 1}/{num_epochs}], Loss: {loss.item():.4f}, Val Loss: {val_loss.item():.4f}, Val Accuracy: {val_accuracy.item():.4f}\")\n",
    "\n"
   ]
  },
  {
   "cell_type": "code",
   "execution_count": 123,
   "id": "e7b20186",
   "metadata": {},
   "outputs": [
    {
     "name": "stdout",
     "output_type": "stream",
     "text": [
      "              precision    recall  f1-score   support\n",
      "\n",
      "         0.0       0.83      0.97      0.89        73\n",
      "         1.0       0.96      0.77      0.85        64\n",
      "\n",
      "    accuracy                           0.88       137\n",
      "   macro avg       0.89      0.87      0.87       137\n",
      "weighted avg       0.89      0.88      0.87       137\n",
      "\n"
     ]
    },
    {
     "data": {
      "image/png": "[encoded data removed]",
      "text/plain": [
       "<Figure size 640x480 with 1 Axes>"
      ]
     },
     "metadata": {},
     "output_type": "display_data"
    },
    {
     "data": {
      "image/png": "[encoded data removed]",
      "text/plain": [
       "<Figure size 1000x700 with 1 Axes>"
      ]
     },
     "metadata": {},
     "output_type": "display_data"
    }
   ],
   "source": [
    "# test the model\n",
    "model.eval()\n",
    "with torch.no_grad():\n",
    "    test_X = torch.tensor(X_test).to(device)\n",
    "    test_Y = torch.tensor(Y_test).to(device).unsqueeze(1)\n",
    "    outputs = model(test_X)\n",
    "    test_Y = test_Y.cpu().numpy().flatten()\n",
    "    outputs = outputs.cpu().numpy().flatten()\n",
    "    df_test = pd.DataFrame({\"plagio\": test_Y, \"similarity\": outputs})\n",
    "\n",
    "evaluate_model(df_test, threshold=0.5)"
   ]
  },
  {
   "cell_type": "code",
   "execution_count": 124,
   "id": "79e7f449",
   "metadata": {},
   "outputs": [
    {
     "name": "stdout",
     "output_type": "stream",
     "text": [
      "              precision    recall  f1-score   support\n",
      "\n",
      "         0.0       0.99      1.00      0.99       621\n",
      "         1.0       1.00      0.99      0.99       475\n",
      "\n",
      "    accuracy                           0.99      1096\n",
      "   macro avg       0.99      0.99      0.99      1096\n",
      "weighted avg       0.99      0.99      0.99      1096\n",
      "\n"
     ]
    },
    {
     "data": {
      "image/png": "[encoded data removed]",
      "text/plain": [
       "<Figure size 640x480 with 1 Axes>"
      ]
     },
     "metadata": {},
     "output_type": "display_data"
    },
    {
     "data": {
      "image/png": "[encoded data removed]",
      "text/plain": [
       "<Figure size 1000x700 with 1 Axes>"
      ]
     },
     "metadata": {},
     "output_type": "display_data"
    }
   ],
   "source": [
    "model.eval()\n",
    "with torch.no_grad():\n",
    "    train_X = torch.tensor(X_train).to(device)\n",
    "    train_Y = torch.tensor(Y_train).to(device).unsqueeze(1)\n",
    "    outputs = model(train_X)\n",
    "    train_Y = train_Y.cpu().numpy().flatten()\n",
    "    outputs = outputs.cpu().numpy().flatten()\n",
    "    df_train = pd.DataFrame({\"plagio\": train_Y, \"similarity\": outputs})\n",
    "\n",
    "evaluate_model(df_train, threshold=0.5)"
   ]
  }
 ],
 "metadata": {
  "kernelspec": {
   "display_name": ".venv",
   "language": "python",
   "name": "python3"
  },
  "language_info": {
   "codemirror_mode": {
    "name": "ipython",
    "version": 3
   },
   "file_extension": ".py",
   "mimetype": "text/x-python",
   "name": "python",
   "nbconvert_exporter": "python",
   "pygments_lexer": "ipython3",
   "version": "3.10.12"
  }
 },
 "nbformat": 4,
 "nbformat_minor": 5
}
