{
 "cells": [
  {
   "cell_type": "markdown",
   "id": "f3602973",
   "metadata": {},
   "source": [
    "# Æther: Cosine Similarity-Based Plagiarism Detection System\n",
    "\n",
    "## Overview\n",
    "\n",
    "This notebook implements a plagiarism detection system for source code using cosine similarity. The system leverages the CodeBERTa pre-trained model to generate embeddings for code snippets, which are then compared using cosine similarity to determine if two code samples are similar enough to be considered plagiarized.\n",
    "\n",
    "## Approach\n",
    "\n",
    "- **Data Loading**: Efficiently load code files from the ConPlag Dataset.\n",
    "- **Embedding Generation**: Use CodeBERTa to transform code into semantic vectors.\n",
    "- **Similarity Calculation**: Compute cosine similarity between code pairs.\n",
    "- **Classification**: Determine an optimal threshold for plagiarism detection.\n",
    "- **Evaluation**: Assess system performance using standard metrics.\n"
   ]
  },
  {
   "cell_type": "markdown",
   "id": "00135d03",
   "metadata": {},
   "source": [
    "## 1. Environment Setup\n"
   ]
  },
  {
   "cell_type": "code",
   "execution_count": 19,
   "id": "c5b7b193",
   "metadata": {},
   "outputs": [],
   "source": [
    "import torch\n",
    "import pandas as pd\n",
    "import numpy as np\n",
    "from pathlib import Path\n",
    "from transformers import AutoTokenizer, AutoModel\n",
    "from datasets import Dataset\n",
    "from tqdm import tqdm\n",
    "from sklearn.metrics import confusion_matrix, classification_report\n",
    "import matplotlib.pyplot as plt\n",
    "from sklearn.metrics import ConfusionMatrixDisplay\n",
    "from typing import List"
   ]
  },
  {
   "cell_type": "markdown",
   "id": "a0f40c1c",
   "metadata": {},
   "source": [
    "### 1.1 Seed Configuration\n"
   ]
  },
  {
   "cell_type": "code",
   "execution_count": 20,
   "id": "5322928a",
   "metadata": {},
   "outputs": [
    {
     "data": {
      "text/plain": [
       "<torch._C.Generator at 0x7fc64ff6a290>"
      ]
     },
     "execution_count": 20,
     "metadata": {},
     "output_type": "execute_result"
    }
   ],
   "source": [
    "np.random.seed(42)\n",
    "torch.manual_seed(42)"
   ]
  },
  {
   "cell_type": "markdown",
   "id": "93a0bf49",
   "metadata": {},
   "source": [
    "### 1.2 GPU Support"
   ]
  },
  {
   "cell_type": "code",
   "execution_count": 21,
   "id": "5da2b0e6",
   "metadata": {},
   "outputs": [
    {
     "name": "stdout",
     "output_type": "stream",
     "text": [
      "Using device: cuda\n"
     ]
    }
   ],
   "source": [
    "device = torch.device(\"cuda\" if torch.cuda.is_available() else \"cpu\")\n",
    "print(f\"Using device: {device}\")"
   ]
  },
  {
   "cell_type": "markdown",
   "id": "b1628c11",
   "metadata": {},
   "source": [
    "### 1.3 Model Initialization\n",
    "\n",
    "Initialize the CodeBERTa tokenizer and the model. CodeBERTa is specifically designed for understanding programming languages and can effectively capture the semantic meaning of code sampels.\n"
   ]
  },
  {
   "cell_type": "code",
   "execution_count": 22,
   "id": "8e053705",
   "metadata": {},
   "outputs": [],
   "source": [
    "tokenizer = AutoTokenizer.from_pretrained(\"huggingface/CodeBERTa-small-v1\")\n",
    "model = AutoModel.from_pretrained(\"huggingface/CodeBERTa-small-v1\").to(device)"
   ]
  },
  {
   "cell_type": "markdown",
   "id": "c14d6c5c",
   "metadata": {},
   "source": [
    "## 2. Data Loading\n"
   ]
  },
  {
   "cell_type": "code",
   "execution_count": 23,
   "id": "27d252d5",
   "metadata": {},
   "outputs": [],
   "source": [
    "def loadDataset(labels_path: str, base_dir: str) -> pd.DataFrame:\n",
    "    \"\"\"\n",
    "    Load dataset efficiently by reading unique files only once.\n",
    "\n",
    "    This function read labels from a CSV file and loads the corresponding source\n",
    "    code files. It optimized I/O operations by loading each unique file only\n",
    "    once.\n",
    "\n",
    "    Args:\n",
    "        labels_path (str): Path to the CSV file containing plagiarism labels\n",
    "        base_dir (str): Base directory containing the source code files\n",
    "\n",
    "    Returns:\n",
    "        pandas.DataFrame: DataFrame containing file pairs and their plagiarism\n",
    "                          labels\n",
    "\n",
    "    Raises:\n",
    "        FileNotFoundError: If labels file or base directory doesn't exist\n",
    "        FileNotFoundError: If a referenced source code file isn't found\n",
    "    \"\"\"\n",
    "\n",
    "    labels_path = Path(labels_path)\n",
    "    base_dir = Path(base_dir)\n",
    "\n",
    "    if not labels_path.exists() or not labels_path.is_file():\n",
    "        raise FileNotFoundError(f\"Labels file not found: {labels_path}\")\n",
    "\n",
    "    if not base_dir.exists() or not base_dir.is_dir():\n",
    "        raise FileNotFoundError(f\"Base directory not found: {base_dir}\")\n",
    "\n",
    "    df = pd.read_csv(labels_path)\n",
    "    unique_ids = pd.concat([df[\"id1\"], df[\"id2\"]]).unique()\n",
    "\n",
    "    files = {}\n",
    "    for file_id in tqdm(unique_ids, desc=\"Loading files\"):\n",
    "        path = base_dir / f\"{file_id}.java\"\n",
    "\n",
    "        if path.exists():\n",
    "            try:\n",
    "                files[file_id] = path.read_text(encoding=\"utf-8\")\n",
    "\n",
    "            except UnicodeDecodeError:\n",
    "                files[file_id] = path.read_text(encoding=\"latin-1\")\n",
    "\n",
    "        else:\n",
    "            raise FileNotFoundError(f\"File not found: {path}\")\n",
    "\n",
    "    df[\"file1\"] = df[\"id1\"].map(files)\n",
    "    df[\"file2\"] = df[\"id2\"].map(files)\n",
    "    df[\"plagio\"] = df[\"plagio\"].astype(int)\n",
    "\n",
    "    return df"
   ]
  },
  {
   "cell_type": "markdown",
   "id": "6dbe4dd5",
   "metadata": {},
   "source": [
    "## 3. Embeding Functions\n"
   ]
  },
  {
   "cell_type": "code",
   "execution_count": 24,
   "id": "826d2ffa",
   "metadata": {},
   "outputs": [],
   "source": [
    "def embed_batch(texts: List[str], batch_size: int = 16) -> np.ndarray:\n",
    "    \"\"\"\n",
    "    Efficiently embed multiple text samples in batches.\n",
    "\n",
    "    This function processes code snippets through the CodeBERTa model\n",
    "    to generate embeddings. It optimizes memory usage be processing in\n",
    "    batches and minimizing GPU transfers.\n",
    "\n",
    "    Args:\n",
    "        texts (list): List of text strings to embed\n",
    "        batch_size (int, optional): Number of texts to process in each batch.\n",
    "                                    Defaults to 16.\n",
    "\n",
    "    Returns:\n",
    "        numpy.ndarray: Array of embeddings, shape (len(texts), embedding_dim)\n",
    "    \"\"\"\n",
    "\n",
    "    all_embeddings = []\n",
    "    for i in tqdm(range(0, len(texts), batch_size), desc=\"Embedding batches\"):\n",
    "        batch_texts = texts[i : i + batch_size]\n",
    "        inputs = tokenizer(\n",
    "            batch_texts, padding=\"longest\", truncation=True, return_tensors=\"pt\"\n",
    "        )\n",
    "\n",
    "        inputs = {k: v.to(device) for k, v in inputs.items()}\n",
    "\n",
    "        with torch.no_grad():\n",
    "            outputs = model(**inputs)\n",
    "\n",
    "        embeddings = outputs.pooler_output\n",
    "        all_embeddings.append(embeddings.cpu().numpy())\n",
    "\n",
    "    return np.vstack(all_embeddings) if all_embeddings else np.array([])"
   ]
  },
  {
   "cell_type": "code",
   "execution_count": 25,
   "id": "f8a9c722",
   "metadata": {},
   "outputs": [],
   "source": [
    "def embed(text: str) -> np.ndarray:\n",
    "    \"\"\"\n",
    "    Embed a single text input.\n",
    "\n",
    "    This function processes a single code snippet through the CodeBERTa model\n",
    "    to generate an embedding vector.\n",
    "\n",
    "    Args:\n",
    "      text (str): Text string to embed\n",
    "\n",
    "    Returns:\n",
    "      numpy.ndarray: Embedding vector.\n",
    "    \"\"\"\n",
    "\n",
    "    inputs = tokenizer(text, truncation=True, return_tensors=\"pt\")\n",
    "    inputs = {k: v.to(device) for k, v in inputs.items()}\n",
    "\n",
    "    with torch.no_grad():\n",
    "        outputs = model(**inputs)\n",
    "\n",
    "    embeddings = torch.mean(outputs.last_hidden_state, dim=1)[0]\n",
    "    return embeddings.cpu().numpy()"
   ]
  },
  {
   "cell_type": "markdown",
   "id": "b89d7837",
   "metadata": {},
   "source": [
    "## 4.0 Dataset Processing\n"
   ]
  },
  {
   "cell_type": "code",
   "execution_count": 26,
   "id": "64f1abbf",
   "metadata": {},
   "outputs": [],
   "source": [
    "def process_dataset(dataset: Dataset) -> Dataset:\n",
    "    \"\"\"\n",
    "    Process dataset by embedding unique files only once.\n",
    "\n",
    "    This function optimizes embedding generation by identifying unique files and\n",
    "    embedding them only once. It then maps these embeddings back to the dataset.\n",
    "\n",
    "    Args:\n",
    "        dataset (datasets.Dataset): HuggingFace dataset containing file pairs\n",
    "\n",
    "    Returns:\n",
    "        datasets.Dataset: Dataset with added embedding columns\n",
    "    \"\"\"\n",
    "\n",
    "    all_files = []\n",
    "    file_to_idx = {}\n",
    "\n",
    "    unique_files = set()\n",
    "    for file1, file2 in zip(dataset[\"file1\"], dataset[\"file2\"]):\n",
    "        unique_files.add(file1)\n",
    "        unique_files.add(file2)\n",
    "\n",
    "    all_files = list(unique_files)\n",
    "    file_to_idx = {file: idx for idx, file in enumerate(all_files)}\n",
    "\n",
    "    print(f\"Embedding {len(all_files)} unique files...\")\n",
    "\n",
    "    all_embeddings = embed_batch(all_files, 128)\n",
    "    file_to_embedding = {file: all_embeddings[idx] for file, idx in file_to_idx.items()}\n",
    "\n",
    "    def add_embeddings(example):\n",
    "        return {\n",
    "            \"embeddedFile1\": file_to_embedding[example[\"file1\"]],\n",
    "            \"embeddedFile2\": file_to_embedding[example[\"file2\"]],\n",
    "        }\n",
    "\n",
    "    return dataset.map(add_embeddings)"
   ]
  },
  {
   "cell_type": "markdown",
   "id": "6bda005f",
   "metadata": {},
   "source": [
    "## 5.0 Cosine Similarity\n"
   ]
  },
  {
   "cell_type": "code",
   "execution_count": 27,
   "id": "fef3d0db",
   "metadata": {},
   "outputs": [],
   "source": [
    "def compute_cosine_similarity(vec1: np.ndarray, vec2: np.ndarray) -> float:\n",
    "    \"\"\"\n",
    "    Compute cosine similarity between two vectors.\n",
    "\n",
    "    Cosine similarity measures the cosine of the angle between two vectors,\n",
    "    providing a measure of their semantic similarity.\n",
    "\n",
    "    Args:\n",
    "        vec1 (numpy.ndarray): First vector\n",
    "        vec2 (numpy.ndarray): Second vector\n",
    "\n",
    "    Returns:\n",
    "        float: Cosine similarity value in range [-1, 1]\n",
    "    \"\"\"\n",
    "\n",
    "    vec1_norm = vec1 / np.linalg.norm(vec1)\n",
    "    vec2_norm = vec2 / np.linalg.norm(vec2)\n",
    "\n",
    "    return np.dot(vec1_norm, vec2_norm)"
   ]
  },
  {
   "cell_type": "code",
   "execution_count": 28,
   "id": "a4c8f4ad",
   "metadata": {},
   "outputs": [],
   "source": [
    "def add_similarity_scores(dataset: Dataset) -> Dataset:\n",
    "    \"\"\"\n",
    "    Add cosine similarity scores to dataset.\n",
    "\n",
    "    This function calculates cosine similarity between embedded file pairs\n",
    "    and adds the scores to the dataset.\n",
    "\n",
    "    Args:\n",
    "      dataset (datasets.Dataset): Dataset containing embedded file pairs\n",
    "\n",
    "    Returns:\n",
    "      datasets.Dataset: Dataset with added similarity column\n",
    "    \"\"\"\n",
    "\n",
    "    def add_similarity(example):\n",
    "        sim = compute_cosine_similarity(\n",
    "            example[\"embeddedFile1\"], example[\"embeddedFile2\"]\n",
    "        )\n",
    "\n",
    "        return {\"similarity\": sim}\n",
    "\n",
    "    return dataset.map(add_similarity)"
   ]
  },
  {
   "cell_type": "markdown",
   "id": "a3db701b",
   "metadata": {},
   "source": [
    "## 6.0 Model Evaluation\n"
   ]
  },
  {
   "cell_type": "code",
   "execution_count": 29,
   "id": "0c03e832",
   "metadata": {},
   "outputs": [],
   "source": [
    "def find_optimal_threshold(y_true: np.ndarray, y_scores: np.ndarray) -> float:\n",
    "    \"\"\"\n",
    "    Find the optimal threshold for binary classification using ROC curve.\n",
    "\n",
    "    This function determines the optimal threshold for converting similarity\n",
    "    scores into binary predictions by maximizing the difference between true\n",
    "    positive rate and false positive rate.\n",
    "\n",
    "    Args:\n",
    "        y_true (numpy.ndarray): Array of true binary labels\n",
    "        y_scores (numpy.ndarray): Array of predicted scores\n",
    "\n",
    "    Returns:\n",
    "        float: Optimal threshold value\n",
    "    \"\"\"\n",
    "\n",
    "    from sklearn.metrics import roc_curve\n",
    "\n",
    "    fpr, tpr, thresholds = roc_curve(y_true, y_scores)\n",
    "    optimal_idx = np.argmax(tpr - fpr)\n",
    "    optimal_threshold = thresholds[optimal_idx]\n",
    "\n",
    "    return optimal_threshold"
   ]
  },
  {
   "cell_type": "code",
   "execution_count": 30,
   "id": "c2dc5295",
   "metadata": {},
   "outputs": [],
   "source": [
    "def evaluate_model(df: pd.DataFrame):\n",
    "    \"\"\"\n",
    "    Evaluate the plagiarism detection model.\n",
    "\n",
    "    This function:\n",
    "    1. Finds the optimal threshold for classification\n",
    "    2. Applies threshold to convert similarity scores to binary predictions\n",
    "    3. Generates a classification report with precision, recall, and F1-score\n",
    "    4. Visualizes results with confusion matrix and score distribution\n",
    "\n",
    "    Args:\n",
    "        df (pandas.DataFrame): DataFrame containing true labels and similarity\n",
    "                               scores\n",
    "\n",
    "    Returns:\n",
    "        None: Results are printed and visualized\n",
    "    \"\"\"\n",
    "\n",
    "    threshold = find_optimal_threshold(df[\"plagio\"].values, df[\"similarity\"].values)\n",
    "    print(f\"Optimal threshold: {threshold:.2f}\")\n",
    "\n",
    "    df[\"predicted\"] = df[\"similarity\"].apply(lambda x: 1 if x > threshold else 0)\n",
    "\n",
    "    report = classification_report(df[\"plagio\"], df[\"predicted\"])\n",
    "    print(report)\n",
    "    cm = confusion_matrix(df[\"plagio\"], df[\"predicted\"])\n",
    "\n",
    "    # Plot the confusion matrix\n",
    "    disp = ConfusionMatrixDisplay(\n",
    "        confusion_matrix=cm, display_labels=[\"Not Plagiarized\", \"Plagiarized\"]\n",
    "    )\n",
    "    disp.plot(\n",
    "        cmap=plt.cm.Blues,\n",
    "        colorbar=False,\n",
    "        ax=plt.gca(),\n",
    "    )\n",
    "    plt.title(\"Confusion Matrix\")\n",
    "    plt.show()\n",
    "\n",
    "    # Plot the distribution of the similarity scores\n",
    "    plt.figure(figsize=(10, 7))\n",
    "    plt.hist(\n",
    "        df[\"similarity\"], bins=50, alpha=0.7, color=\"blue\", label=\"Similarity Scores\"\n",
    "    )\n",
    "    plt.axvline(threshold, color=\"red\", linestyle=\"--\")\n",
    "    plt.xlabel(\"Similarity Score\")\n",
    "    plt.ylabel(\"Frequency\")\n",
    "    plt.title(\"Distribution of Similarity Scores\")\n",
    "    plt.show()"
   ]
  },
  {
   "cell_type": "markdown",
   "id": "aef5893f",
   "metadata": {},
   "source": [
    "## 7.0 Execution\n"
   ]
  },
  {
   "cell_type": "markdown",
   "id": "835c057d",
   "metadata": {},
   "source": [
    "Define paths\n"
   ]
  },
  {
   "cell_type": "code",
   "execution_count": 32,
   "id": "f473f9e1",
   "metadata": {},
   "outputs": [],
   "source": [
    "LABELS_PATH = \"../labels/conplag_labels.csv\"\n",
    "BASE_DIR = \"../datasets/conplag_preprocessed\""
   ]
  },
  {
   "cell_type": "markdown",
   "id": "5f1613fd",
   "metadata": {},
   "source": [
    "Loading the dataset\n"
   ]
  },
  {
   "cell_type": "code",
   "execution_count": 33,
   "id": "89db653f",
   "metadata": {},
   "outputs": [
    {
     "name": "stderr",
     "output_type": "stream",
     "text": [
      "Loading files: 100%|██████████| 975/975 [00:00<00:00, 58846.88it/s]\n"
     ]
    }
   ],
   "source": [
    "df = loadDataset(LABELS_PATH, BASE_DIR)\n",
    "dataset = Dataset.from_pandas(df)"
   ]
  },
  {
   "cell_type": "markdown",
   "id": "a2923ef6",
   "metadata": {},
   "source": [
    "Process dataset (generated embeddings)"
   ]
  },
  {
   "cell_type": "code",
   "execution_count": 34,
   "id": "99800aa9",
   "metadata": {},
   "outputs": [
    {
     "name": "stdout",
     "output_type": "stream",
     "text": [
      "Embedding 946 unique files...\n"
     ]
    },
    {
     "name": "stderr",
     "output_type": "stream",
     "text": [
      "Embedding batches: 100%|██████████| 8/8 [00:11<00:00,  1.38s/it]\n"
     ]
    },
    {
     "data": {
      "application/vnd.jupyter.widget-view+json": {
       "model_id": "62e43690dc37429aa6d066dfa7e23618",
       "version_major": 2,
       "version_minor": 0
      },
      "text/plain": [
       "Map:   0%|          | 0/911 [00:00<?, ? examples/s]"
      ]
     },
     "metadata": {},
     "output_type": "display_data"
    }
   ],
   "source": [
    "embedded_dataset = process_dataset(dataset)"
   ]
  },
  {
   "cell_type": "markdown",
   "id": "7959636c",
   "metadata": {},
   "source": [
    "Compute similarity scores"
   ]
  },
  {
   "cell_type": "code",
   "execution_count": 35,
   "id": "adb64b2f",
   "metadata": {},
   "outputs": [
    {
     "name": "stdout",
     "output_type": "stream",
     "text": [
      "Computing similarity scores...\n"
     ]
    },
    {
     "data": {
      "application/vnd.jupyter.widget-view+json": {
       "model_id": "633601303b2747da80c6c50b4f40be20",
       "version_major": 2,
       "version_minor": 0
      },
      "text/plain": [
       "Map:   0%|          | 0/911 [00:00<?, ? examples/s]"
      ]
     },
     "metadata": {},
     "output_type": "display_data"
    }
   ],
   "source": [
    "print(\"Computing similarity scores...\")\n",
    "final_dataset = add_similarity_scores(embedded_dataset)"
   ]
  },
  {
   "cell_type": "code",
   "execution_count": 36,
   "id": "e46466f4",
   "metadata": {},
   "outputs": [
    {
     "name": "stdout",
     "output_type": "stream",
     "text": [
      "Optimal threshold: 0.96\n",
      "              precision    recall  f1-score   support\n",
      "\n",
      "           0       0.83      0.83      0.83       660\n",
      "           1       0.55      0.54      0.54       251\n",
      "\n",
      "    accuracy                           0.75       911\n",
      "   macro avg       0.69      0.69      0.69       911\n",
      "weighted avg       0.75      0.75      0.75       911\n",
      "\n"
     ]
    },
    {
     "data": {
      "image/png": "[encoded data removed]",
      "text/plain": [
       "<Figure size 640x480 with 1 Axes>"
      ]
     },
     "metadata": {},
     "output_type": "display_data"
    },
    {
     "data": {
      "image/png": "[encoded data removed]",
      "text/plain": [
       "<Figure size 1000x700 with 1 Axes>"
      ]
     },
     "metadata": {},
     "output_type": "display_data"
    }
   ],
   "source": [
    "df = final_dataset.to_pandas()\n",
    "evaluate_model(df)"
   ]
  }
 ],
 "metadata": {
  "kernelspec": {
   "display_name": "aether",
   "language": "python",
   "name": "python3"
  },
  "language_info": {
   "codemirror_mode": {
    "name": "ipython",
    "version": 3
   },
   "file_extension": ".py",
   "mimetype": "text/x-python",
   "name": "python",
   "nbconvert_exporter": "python",
   "pygments_lexer": "ipython3",
   "version": "3.11.12"
  }
 },
 "nbformat": 4,
 "nbformat_minor": 5
}
