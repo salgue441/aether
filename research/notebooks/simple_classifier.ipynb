{
 "cells": [
  {
   "cell_type": "markdown",
   "id": "f3602973",
   "metadata": {},
   "source": [
    "## Æther: Plagiarism Detection Model\n",
    "\n",
    "This notebook presents a comprehensive approach to source code plagiarism detection using machine learning techniques. The system leverages code embeddings from pre-trained models combined with neural networks to identify similar code fragments with high accuracy.\n",
    "\n",
    "## Introduction\n",
    "\n",
    "Source code plagiarism detection is a significant challenge in academic environments and industry. This notebook implements a plagiarism detection system for Java source code by comparing code embeddings generated from a pre-trained model (CodeBERTa). The approach involves extracting semantic representations of code and using neural networks to determine similarity.\n"
   ]
  },
  {
   "cell_type": "markdown",
   "id": "4ccdbafb",
   "metadata": {},
   "source": [
    "## 1.0 Environment Setup\n",
    "\n",
    "The notebook begins by setting up the necessary environment, including importing required libraries and verifying GPU availability.\n"
   ]
  },
  {
   "cell_type": "code",
   "execution_count": 29,
   "id": "c5b7b193",
   "metadata": {},
   "outputs": [],
   "source": [
    "import torch\n",
    "import pandas as pd\n",
    "import numpy as np\n",
    "from pathlib import Path\n",
    "from transformers import AutoTokenizer, AutoModel\n",
    "from datasets import Dataset\n",
    "from tqdm import tqdm\n",
    "from sklearn.model_selection import train_test_split\n",
    "from sklearn.metrics import confusion_matrix, classification_report\n",
    "import matplotlib.pyplot as plt\n",
    "from sklearn.metrics import ConfusionMatrixDisplay\n",
    "from typing import Optional"
   ]
  },
  {
   "cell_type": "markdown",
   "id": "d9b3ba76",
   "metadata": {},
   "source": [
    "### 1.1 Seed Configuration\n"
   ]
  },
  {
   "cell_type": "code",
   "execution_count": 30,
   "id": "5608fcf5",
   "metadata": {},
   "outputs": [
    {
     "data": {
      "text/plain": [
       "<torch._C.Generator at 0x7f88b51b6cd0>"
      ]
     },
     "execution_count": 30,
     "metadata": {},
     "output_type": "execute_result"
    }
   ],
   "source": [
    "np.random.seed(42)\n",
    "torch.manual_seed(42)"
   ]
  },
  {
   "cell_type": "markdown",
   "id": "e6d90a1d",
   "metadata": {},
   "source": [
    "### 1.2 GPU Support\n"
   ]
  },
  {
   "cell_type": "code",
   "execution_count": 31,
   "id": "81dcce36",
   "metadata": {},
   "outputs": [
    {
     "name": "stdout",
     "output_type": "stream",
     "text": [
      "Using device: cuda\n"
     ]
    }
   ],
   "source": [
    "device = torch.device(\"cuda\" if torch.cuda.is_available() else \"cpu\")\n",
    "print(f\"Using device: {device}\")"
   ]
  },
  {
   "cell_type": "markdown",
   "id": "c7b0715e",
   "metadata": {},
   "source": [
    "### 1.3 Model Configuration\n",
    "\n",
    "The model leverages the HuggingFace Transformers library to load pre-trained models for code representations.\n"
   ]
  },
  {
   "cell_type": "code",
   "execution_count": 32,
   "id": "8e053705",
   "metadata": {},
   "outputs": [],
   "source": [
    "tokenizer = AutoTokenizer.from_pretrained(\"huggingface/CodeBERTa-small-v1\")\n",
    "embedding_model = AutoModel.from_pretrained(\"huggingface/CodeBERTa-small-v1\").to(device)"
   ]
  },
  {
   "cell_type": "markdown",
   "id": "3e413f35",
   "metadata": {},
   "source": [
    "## 2.0 Data Loading and Preprocessing\n"
   ]
  },
  {
   "cell_type": "code",
   "execution_count": 33,
   "id": "27d252d5",
   "metadata": {},
   "outputs": [],
   "source": [
    "def load_dataset(datasets: list[tuple[str, str]]):\n",
    "    \"\"\"\n",
    "    Load and preprocess dataset efficiently by reading unique files once.\n",
    "\n",
    "    This function loads plagiarism detection datasets by reading the label files\n",
    "    and associated source files. It optimizes performance by loading each\n",
    "    unique file once.\n",
    "\n",
    "    Args:\n",
    "        datasets (list[tuple[str, str]]): List of tuples containing paths to\n",
    "            labels and their corresponding base directories with source files.\n",
    "\n",
    "    Returns:\n",
    "        pandas.DataFrame: DataFrame containing processed data with columns:\n",
    "            - id1, id2: Identifiers for file pairs\n",
    "            - plagio: Binary label indicating plagiarism\n",
    "            - file1, file2: Actual content of the source code files\n",
    "\n",
    "    Raises:\n",
    "        FileNotFoundError: If label file or base directory doesn't exist\n",
    "    \"\"\"\n",
    "\n",
    "    columns = [\"id1\", \"id2\", \"plagio\", \"file1\", \"file2\"]\n",
    "    df = pd.DataFrame(columns=columns)\n",
    "\n",
    "    for labels_path, base_dir in datasets:\n",
    "        labels_path = Path(labels_path)\n",
    "        base_dir = Path(base_dir)\n",
    "\n",
    "        if not labels_path.exists() or not labels_path.is_file():\n",
    "            raise FileNotFoundError(f\"Labels file not found: {labels_path}\")\n",
    "\n",
    "        if not base_dir.exists() or not base_dir.is_dir():\n",
    "            raise FileNotFoundError(f\"Base directory not found: {base_dir}\")\n",
    "\n",
    "        df2 = pd.read_csv(labels_path)\n",
    "\n",
    "        df2[\"id1\"] = df2[\"id1\"].astype(str)\n",
    "        df2[\"id2\"] = df2[\"id2\"].astype(str)\n",
    "        df2[\"plagio\"] = df2[\"plagio\"].astype(int)\n",
    "\n",
    "        unique_ids = pd.concat([df2[\"id1\"], df2[\"id2\"]]).unique()\n",
    "\n",
    "        files = {}\n",
    "        for file_id in tqdm(unique_ids, desc=\"Loading files\"):\n",
    "            path = base_dir / f\"{file_id}.java\"\n",
    "\n",
    "            if path.exists():\n",
    "                try:\n",
    "                    files[file_id] = path.read_text(encoding=\"utf-8\")\n",
    "\n",
    "                except UnicodeDecodeError:\n",
    "                    files[file_id] = path.read_text(encoding=\"latin-1\")\n",
    "\n",
    "            else:\n",
    "                raise FileNotFoundError(f\"File not found: {path}\")\n",
    "\n",
    "        df2[\"file1\"] = df2[\"id1\"].map(files)\n",
    "        df2[\"file2\"] = df2[\"id2\"].map(files)\n",
    "\n",
    "        df = pd.concat([df, df2[columns]], ignore_index=True)\n",
    "\n",
    "    return df"
   ]
  },
  {
   "cell_type": "markdown",
   "id": "bb5a57f7",
   "metadata": {},
   "source": [
    "## 3.0 Embedding Functions\n"
   ]
  },
  {
   "cell_type": "code",
   "execution_count": 34,
   "id": "826d2ffa",
   "metadata": {},
   "outputs": [],
   "source": [
    "def embed_batch(texts: str, batch_size: int = 16) -> np.ndarray:\n",
    "    \"\"\"\n",
    "    Efficiently embed multiple text samples in batches.\n",
    "\n",
    "    This function processes code snippets through the CodeBERTa model\n",
    "    to generate embeddings. It optimizes memory usage be processing in\n",
    "    batches and minimizing GPU transfers.\n",
    "\n",
    "    Args:\n",
    "        texts (list): List of text strings to embed\n",
    "        batch_size (int, optional): Number of texts to process in each batch.\n",
    "                                    Defaults to 16.\n",
    "\n",
    "    Returns:\n",
    "        numpy.ndarray: Array of embeddings, shape (len(texts), embedding_dim)\n",
    "    \"\"\"\n",
    "\n",
    "    all_embeddings = []\n",
    "    for i in tqdm(range(0, len(texts), batch_size), desc=\"Embedding batches\"):\n",
    "        batch_texts = texts[i : i + batch_size]\n",
    "        inputs = tokenizer(\n",
    "            batch_texts, padding=\"longest\", truncation=True, return_tensors=\"pt\"\n",
    "        )\n",
    "\n",
    "        inputs = {k: v.to(device) for k, v in inputs.items()}\n",
    "\n",
    "        with torch.no_grad():\n",
    "            outputs = embedding_model(**inputs)\n",
    "\n",
    "        embeddings = outputs.pooler_output\n",
    "        all_embeddings.append(embeddings.cpu().numpy())\n",
    "\n",
    "    return np.vstack(all_embeddings) if all_embeddings else np.array([])"
   ]
  },
  {
   "cell_type": "code",
   "execution_count": 35,
   "id": "48155c76",
   "metadata": {},
   "outputs": [],
   "source": [
    "def embed(text: str) -> np.ndarray:\n",
    "    \"\"\"\n",
    "    Embed a single text input.\n",
    "\n",
    "    This function processes a single code snippet through the CodeBERTa model\n",
    "    to generate an embedding vector.\n",
    "\n",
    "    Args:\n",
    "      text (str): Text string to embed\n",
    "\n",
    "    Returns:\n",
    "      numpy.ndarray: Embedding vector.\n",
    "    \"\"\"\n",
    "\n",
    "    inputs = tokenizer(text, truncation=True, return_tensors=\"pt\")\n",
    "    inputs = {k: v.to(device) for k, v in inputs.items()}\n",
    "\n",
    "    with torch.no_grad():\n",
    "        outputs = embedding_model(**inputs)\n",
    "\n",
    "    embeddings = torch.mean(outputs.last_hidden_state, dim=1)[0]\n",
    "    return embeddings.cpu().numpy()"
   ]
  },
  {
   "cell_type": "code",
   "execution_count": 36,
   "id": "64f1abbf",
   "metadata": {},
   "outputs": [],
   "source": [
    "def embed_dataset(dataset: Dataset) -> Dataset:\n",
    "    \"\"\"\n",
    "    Process dataset by embedding all unique files only once.\n",
    "\n",
    "    This function optimizes the embedding process by identifying unique\n",
    "    files, embedding them once, and then mapping the embeddings to all\n",
    "    occurrences in the dataset.\n",
    "\n",
    "    Args:\n",
    "        dataset (datasets.Dataset): Input dataset containing code files\n",
    "\n",
    "    Returns:\n",
    "        datasets.Dataset: Original dataset augmented with embedding vectors\n",
    "    \"\"\"\n",
    "\n",
    "    all_files = []\n",
    "    file_to_idx = {}\n",
    "\n",
    "    unique_files = set()\n",
    "    for file1, file2 in zip(dataset[\"file1\"], dataset[\"file2\"]):\n",
    "        unique_files.add(file1)\n",
    "        unique_files.add(file2)\n",
    "\n",
    "    all_files = list(unique_files)\n",
    "    file_to_idx = {file: idx for idx, file in enumerate(all_files)}\n",
    "\n",
    "    print(f\"Embedding {len(all_files)} unique files...\")\n",
    "\n",
    "    all_embeddings = embed_batch(all_files, 128)\n",
    "    file_to_embedding = {file: all_embeddings[idx] for file, idx in file_to_idx.items()}\n",
    "\n",
    "    def add_embeddings(example):\n",
    "        return {\n",
    "            \"embeddedFile1\": file_to_embedding[example[\"file1\"]],\n",
    "            \"embeddedFile2\": file_to_embedding[example[\"file2\"]],\n",
    "        }\n",
    "\n",
    "    return dataset.map(add_embeddings)"
   ]
  },
  {
   "cell_type": "markdown",
   "id": "8c176bbc",
   "metadata": {},
   "source": [
    "## 4.0 Model Evaluation\n"
   ]
  },
  {
   "cell_type": "code",
   "execution_count": 37,
   "id": "0c03e832",
   "metadata": {},
   "outputs": [],
   "source": [
    "def find_optimal_threshold(y_true: np.ndarray, y_scores: np.ndarray) -> float:\n",
    "    \"\"\"Find the optimal classification threshold using ROC curve\n",
    "\n",
    "    Determines the optimal decision threshold by maximizing the\n",
    "    difference between true positive rate and false positive rate.\n",
    "\n",
    "    Args:\n",
    "        y_true (np.ndarray): Ground truth binary labels\n",
    "        y_scores (np.ndarray): Predicted scores or probabilities\n",
    "\n",
    "    Returns:\n",
    "        float: Optimal threshold value for binary classification\n",
    "    \"\"\"\n",
    "\n",
    "    from sklearn.metrics import roc_curve\n",
    "\n",
    "    fpr, tpr, thresholds = roc_curve(y_true, y_scores)\n",
    "    optimal_idx = np.argmax(tpr - fpr)\n",
    "    optimal_threshold = thresholds[optimal_idx]\n",
    "\n",
    "    return optimal_threshold"
   ]
  },
  {
   "cell_type": "code",
   "execution_count": 38,
   "id": "de8a421b",
   "metadata": {},
   "outputs": [],
   "source": [
    "def evaluate_model(\n",
    "    df: pd.DataFrame,\n",
    "    threshold: Optional[float] = None,\n",
    "):\n",
    "    \"\"\"\n",
    "    Evaluate model performance and generate visualizations.\n",
    "\n",
    "    This function evaluates a plagiarism detection model using various metrics,\n",
    "    visualizes the confusion matrix, and displays the distribution of similarity scores.\n",
    "    If no threshold is provided, it finds the optimal threshold automatically.\n",
    "\n",
    "    Args:\n",
    "        df (DataFrame): DataFrame containing 'plagio' (true labels) and\n",
    "                        'similarity' (predictions)\n",
    "        threshold (float, optional): Classification threshold. If None, optimal\n",
    "                                     threshold is computed.\n",
    "\n",
    "    Returns:\n",
    "        None: Displays classification report, confusion matrix,\n",
    "              and score distribution\n",
    "    \"\"\"\n",
    "\n",
    "    if threshold is None:\n",
    "        threshold = find_optimal_threshold(\n",
    "            df[\"plagio\"].values,\n",
    "            df[\"similarity\"].values,\n",
    "        )\n",
    "        print(f\"Optimal threshold: {threshold:.2f}\")\n",
    "\n",
    "    df[\"predicted\"] = df[\"similarity\"].apply(lambda x: 1 if x > threshold else 0)\n",
    "\n",
    "    report = classification_report(df[\"plagio\"], df[\"predicted\"])\n",
    "    print(report)\n",
    "    cm = confusion_matrix(df[\"plagio\"], df[\"predicted\"])\n",
    "\n",
    "    # Plot the confusion matrix\n",
    "    disp = ConfusionMatrixDisplay(\n",
    "        confusion_matrix=cm, display_labels=[\"Not Plagiarized\", \"Plagiarized\"]\n",
    "    )\n",
    "    disp.plot(\n",
    "        cmap=plt.cm.Blues,\n",
    "        colorbar=False,\n",
    "        ax=plt.gca(),\n",
    "    )\n",
    "    plt.title(\"Confusion Matrix\")\n",
    "    plt.show()\n",
    "\n",
    "    # Plot the distribution of the similarity scores\n",
    "    plt.figure(figsize=(10, 7))\n",
    "    plt.hist(\n",
    "        df[\"similarity\"], bins=50, alpha=0.7, color=\"blue\", label=\"Similarity Scores\"\n",
    "    )\n",
    "    plt.axvline(threshold, color=\"red\", linestyle=\"--\")\n",
    "    plt.xlabel(\"Similarity Score\")\n",
    "    plt.ylabel(\"Frequency\")\n",
    "    plt.title(\"Distribution of Similarity Scores\")\n",
    "    plt.show()"
   ]
  },
  {
   "cell_type": "markdown",
   "id": "d9953c7a",
   "metadata": {},
   "source": [
    "## 5.0 Loading the Datasets\n"
   ]
  },
  {
   "cell_type": "code",
   "execution_count": 39,
   "id": "3bac310c",
   "metadata": {},
   "outputs": [],
   "source": [
    "LABELS_PATH = Path(\"../labels\")\n",
    "CONPLAG_LABEL_PATH = LABELS_PATH / \"conplag_labels.csv\"\n",
    "IR_PLAG_LABEL_PATH = LABELS_PATH / \"ir_plag_labels.csv\""
   ]
  },
  {
   "cell_type": "code",
   "execution_count": 40,
   "id": "02e431b8",
   "metadata": {},
   "outputs": [],
   "source": [
    "BASE_DIR = Path(\"../datasets\")\n",
    "CONPLAG_BASE_DIR = BASE_DIR / \"conplag_preprocessed\"\n",
    "IR_PLAG_BASE_DIR = BASE_DIR / \"ir_plag_preprocessed\""
   ]
  },
  {
   "cell_type": "code",
   "execution_count": 41,
   "id": "6bd34308",
   "metadata": {},
   "outputs": [
    {
     "name": "stderr",
     "output_type": "stream",
     "text": [
      "Loading files: 100%|██████████| 975/975 [00:00<00:00, 37130.20it/s]\n",
      "Loading files: 100%|██████████| 460/460 [00:00<00:00, 35770.99it/s]\n"
     ]
    }
   ],
   "source": [
    "df2 = load_dataset(\n",
    "    [(CONPLAG_LABEL_PATH, CONPLAG_BASE_DIR), (IR_PLAG_LABEL_PATH, IR_PLAG_BASE_DIR)]\n",
    ")"
   ]
  },
  {
   "cell_type": "code",
   "execution_count": 42,
   "id": "7e4a0fbe",
   "metadata": {},
   "outputs": [
    {
     "name": "stdout",
     "output_type": "stream",
     "text": [
      "Embedding 1392 unique files...\n"
     ]
    },
    {
     "name": "stderr",
     "output_type": "stream",
     "text": [
      "Embedding batches: 100%|██████████| 11/11 [02:53<00:00, 15.77s/it]\n"
     ]
    },
    {
     "data": {
      "application/vnd.jupyter.widget-view+json": {
       "model_id": "0a3cf7d06aed49cdb2723a84d789101f",
       "version_major": 2,
       "version_minor": 0
      },
      "text/plain": [
       "Map:   0%|          | 0/1371 [00:00<?, ? examples/s]"
      ]
     },
     "metadata": {},
     "output_type": "display_data"
    }
   ],
   "source": [
    "dataset = Dataset.from_pandas(df2)\n",
    "embedded_dataset = embed_dataset(dataset)"
   ]
  },
  {
   "cell_type": "markdown",
   "id": "08bb2ebd",
   "metadata": {},
   "source": [
    "## 6.0 Data Splitting\n"
   ]
  },
  {
   "cell_type": "code",
   "execution_count": 43,
   "id": "ae65dc4d",
   "metadata": {},
   "outputs": [],
   "source": [
    "df2 = embedded_dataset.to_pandas()"
   ]
  },
  {
   "cell_type": "code",
   "execution_count": 44,
   "id": "96ae3f2a",
   "metadata": {},
   "outputs": [],
   "source": [
    "X = np.array(\n",
    "    [\n",
    "        np.subtract(row[\"embeddedFile1\"], row[\"embeddedFile2\"])\n",
    "        for _, row in df2.iterrows()\n",
    "    ],\n",
    "    dtype=np.float32,\n",
    ")\n",
    "\n",
    "Y = df2[\"plagio\"].values.astype(np.float32)"
   ]
  },
  {
   "cell_type": "markdown",
   "id": "cf6f098f",
   "metadata": {},
   "source": [
    "Splitting the combined dataset. 80% train, 10% validation, 10% test"
   ]
  },
  {
   "cell_type": "code",
   "execution_count": 45,
   "id": "1e07b7b2",
   "metadata": {},
   "outputs": [],
   "source": [
    "X_train, X_temp, Y_train, Y_temp = train_test_split(\n",
    "    X, Y, test_size=0.2, random_state=42\n",
    ")"
   ]
  },
  {
   "cell_type": "code",
   "execution_count": 46,
   "id": "fd5c191d",
   "metadata": {},
   "outputs": [],
   "source": [
    "X_test, X_val, Y_test, Y_val = train_test_split(\n",
    "    X_temp, Y_temp, test_size=0.5, random_state=42\n",
    ")"
   ]
  },
  {
   "cell_type": "code",
   "execution_count": 47,
   "id": "5358c6af",
   "metadata": {},
   "outputs": [
    {
     "name": "stdout",
     "output_type": "stream",
     "text": [
      "Train, validation, and test datasets prepared.\n",
      "Length of train set: 1096, Length of validation set: 138, Length of test set: 137\n",
      "Input dimension: 768\n"
     ]
    }
   ],
   "source": [
    "print(\"Train, validation, and test datasets prepared.\")\n",
    "print(\n",
    "    f\"Length of train set: {len(Y_train)}, Length of validation set: {len(Y_val)}, Length of test set: {len(Y_test)}\"\n",
    ")\n",
    "print(f\"Input dimension: {X_train.shape[1]}\")"
   ]
  },
  {
   "cell_type": "markdown",
   "id": "5c87dbed",
   "metadata": {},
   "source": [
    "## 7.0 Model Architecture\n"
   ]
  },
  {
   "cell_type": "code",
   "execution_count": 48,
   "id": "ca551770",
   "metadata": {},
   "outputs": [
    {
     "name": "stdout",
     "output_type": "stream",
     "text": [
      "Input dimension: 768\n"
     ]
    }
   ],
   "source": [
    "input_dim = X_train.shape[1]\n",
    "print(f\"Input dimension: {input_dim}\")"
   ]
  },
  {
   "cell_type": "markdown",
   "id": "e861da26",
   "metadata": {},
   "source": [
    "### 7.1 Model\n"
   ]
  },
  {
   "cell_type": "markdown",
   "id": "00f68752",
   "metadata": {},
   "source": [
    "The model architecture consists of a three-layer neural network with dropout regularization to prevent overfitting. The final sigmoid activation produces a plagiarism probability.\n"
   ]
  },
  {
   "cell_type": "code",
   "execution_count": 49,
   "id": "49bee81c",
   "metadata": {},
   "outputs": [],
   "source": [
    "model = torch.nn.Sequential(\n",
    "    torch.nn.Linear(input_dim, 32),\n",
    "    torch.nn.ReLU(),\n",
    "    torch.nn.Dropout(0.6),\n",
    "    torch.nn.Linear(32, 16),\n",
    "    torch.nn.ReLU(),\n",
    "    torch.nn.Dropout(0.6),\n",
    "    torch.nn.Linear(16, 1),\n",
    "    torch.nn.Sigmoid(),\n",
    ").to(device)"
   ]
  },
  {
   "cell_type": "markdown",
   "id": "ecb733b5",
   "metadata": {},
   "source": [
    "### 7.2 Optimizer & Criterion\n"
   ]
  },
  {
   "cell_type": "markdown",
   "id": "7979c2a7",
   "metadata": {},
   "source": [
    "The model is configured using binary cross-entropy loss and the Adam optimizer with weight decay for regularization.\n"
   ]
  },
  {
   "cell_type": "code",
   "execution_count": 50,
   "id": "21313f50",
   "metadata": {},
   "outputs": [],
   "source": [
    "optimizer = torch.optim.Adam(model.parameters(), lr=0.001, weight_decay=0.0001)\n",
    "criterion = torch.nn.BCELoss()"
   ]
  },
  {
   "cell_type": "markdown",
   "id": "1495bc1e",
   "metadata": {},
   "source": [
    "### 7.3 Hyperparameters\n"
   ]
  },
  {
   "cell_type": "code",
   "execution_count": 51,
   "id": "ffe87627",
   "metadata": {},
   "outputs": [],
   "source": [
    "num_epochs = 100\n",
    "batch_size = 32"
   ]
  },
  {
   "cell_type": "markdown",
   "id": "8f5c5f80",
   "metadata": {},
   "source": [
    "## 8.0 Training\n",
    "\n",
    "Training is performed with standard mini-batch gradient descent over 100 epochs, with regular validation to monitor performance.\n"
   ]
  },
  {
   "cell_type": "code",
   "execution_count": 52,
   "id": "e3255291",
   "metadata": {},
   "outputs": [
    {
     "name": "stdout",
     "output_type": "stream",
     "text": [
      "Epoch [1/100], Loss: 0.6658, Val Loss: 0.6825, Val Accuracy: 0.5435\n",
      "Epoch [2/100], Loss: 0.6445, Val Loss: 0.6600, Val Accuracy: 0.7101\n",
      "Epoch [3/100], Loss: 0.6030, Val Loss: 0.6462, Val Accuracy: 0.7174\n",
      "Epoch [4/100], Loss: 0.5725, Val Loss: 0.6341, Val Accuracy: 0.7609\n",
      "Epoch [5/100], Loss: 0.6272, Val Loss: 0.6253, Val Accuracy: 0.7536\n",
      "Epoch [6/100], Loss: 0.5703, Val Loss: 0.6062, Val Accuracy: 0.7754\n",
      "Epoch [7/100], Loss: 0.5923, Val Loss: 0.6021, Val Accuracy: 0.7609\n",
      "Epoch [8/100], Loss: 0.5250, Val Loss: 0.5899, Val Accuracy: 0.7971\n",
      "Epoch [9/100], Loss: 0.4596, Val Loss: 0.5884, Val Accuracy: 0.8043\n",
      "Epoch [10/100], Loss: 0.4815, Val Loss: 0.5867, Val Accuracy: 0.8116\n",
      "Epoch [11/100], Loss: 0.3970, Val Loss: 0.5858, Val Accuracy: 0.7971\n",
      "Epoch [12/100], Loss: 0.3138, Val Loss: 0.5845, Val Accuracy: 0.8043\n",
      "Epoch [13/100], Loss: 0.4980, Val Loss: 0.5796, Val Accuracy: 0.8261\n",
      "Epoch [14/100], Loss: 0.4839, Val Loss: 0.5789, Val Accuracy: 0.8188\n",
      "Epoch [15/100], Loss: 0.3673, Val Loss: 0.5689, Val Accuracy: 0.8333\n",
      "Epoch [16/100], Loss: 0.3163, Val Loss: 0.5560, Val Accuracy: 0.8116\n",
      "Epoch [17/100], Loss: 0.3754, Val Loss: 0.5614, Val Accuracy: 0.8261\n",
      "Epoch [18/100], Loss: 0.3908, Val Loss: 0.5542, Val Accuracy: 0.8406\n",
      "Epoch [19/100], Loss: 0.3901, Val Loss: 0.5553, Val Accuracy: 0.8261\n",
      "Epoch [20/100], Loss: 0.2917, Val Loss: 0.5660, Val Accuracy: 0.8261\n",
      "Epoch [21/100], Loss: 0.4311, Val Loss: 0.5687, Val Accuracy: 0.8043\n",
      "Epoch [22/100], Loss: 0.3456, Val Loss: 0.5672, Val Accuracy: 0.8188\n",
      "Epoch [23/100], Loss: 0.1616, Val Loss: 0.5524, Val Accuracy: 0.8406\n",
      "Epoch [24/100], Loss: 0.2603, Val Loss: 0.5721, Val Accuracy: 0.8333\n",
      "Epoch [25/100], Loss: 0.4223, Val Loss: 0.5503, Val Accuracy: 0.8261\n",
      "Epoch [26/100], Loss: 0.2567, Val Loss: 0.5602, Val Accuracy: 0.8406\n",
      "Epoch [27/100], Loss: 0.2925, Val Loss: 0.5621, Val Accuracy: 0.8333\n",
      "Epoch [28/100], Loss: 0.4038, Val Loss: 0.5621, Val Accuracy: 0.8406\n",
      "Epoch [29/100], Loss: 0.2424, Val Loss: 0.5828, Val Accuracy: 0.8116\n",
      "Epoch [30/100], Loss: 0.2149, Val Loss: 0.5548, Val Accuracy: 0.8333\n",
      "Epoch [31/100], Loss: 0.2301, Val Loss: 0.5925, Val Accuracy: 0.8406\n",
      "Epoch [32/100], Loss: 0.2183, Val Loss: 0.5944, Val Accuracy: 0.8261\n",
      "Epoch [33/100], Loss: 0.2250, Val Loss: 0.5920, Val Accuracy: 0.8333\n",
      "Epoch [34/100], Loss: 0.3990, Val Loss: 0.5921, Val Accuracy: 0.8333\n",
      "Epoch [35/100], Loss: 0.1060, Val Loss: 0.5849, Val Accuracy: 0.8406\n",
      "Epoch [36/100], Loss: 0.1665, Val Loss: 0.5860, Val Accuracy: 0.8478\n",
      "Epoch [37/100], Loss: 0.2081, Val Loss: 0.5737, Val Accuracy: 0.8551\n",
      "Epoch [38/100], Loss: 0.1523, Val Loss: 0.5559, Val Accuracy: 0.8623\n",
      "Epoch [39/100], Loss: 0.2166, Val Loss: 0.5812, Val Accuracy: 0.8406\n",
      "Epoch [40/100], Loss: 0.2199, Val Loss: 0.5675, Val Accuracy: 0.8261\n",
      "Epoch [41/100], Loss: 0.1371, Val Loss: 0.5785, Val Accuracy: 0.8333\n",
      "Epoch [42/100], Loss: 0.0877, Val Loss: 0.6013, Val Accuracy: 0.8551\n",
      "Epoch [43/100], Loss: 0.1056, Val Loss: 0.5977, Val Accuracy: 0.8551\n",
      "Epoch [44/100], Loss: 0.1302, Val Loss: 0.6064, Val Accuracy: 0.8696\n",
      "Epoch [45/100], Loss: 0.1033, Val Loss: 0.6059, Val Accuracy: 0.8478\n",
      "Epoch [46/100], Loss: 0.2537, Val Loss: 0.6058, Val Accuracy: 0.8478\n",
      "Epoch [47/100], Loss: 0.1083, Val Loss: 0.6168, Val Accuracy: 0.8551\n",
      "Epoch [48/100], Loss: 0.1180, Val Loss: 0.6348, Val Accuracy: 0.8551\n",
      "Epoch [49/100], Loss: 0.1404, Val Loss: 0.6552, Val Accuracy: 0.8551\n",
      "Epoch [50/100], Loss: 0.1609, Val Loss: 0.6634, Val Accuracy: 0.8551\n",
      "Epoch [51/100], Loss: 0.1527, Val Loss: 0.6543, Val Accuracy: 0.8551\n",
      "Epoch [52/100], Loss: 0.1231, Val Loss: 0.6833, Val Accuracy: 0.8551\n",
      "Epoch [53/100], Loss: 0.1159, Val Loss: 0.6698, Val Accuracy: 0.8478\n",
      "Epoch [54/100], Loss: 0.1753, Val Loss: 0.6944, Val Accuracy: 0.8551\n",
      "Epoch [55/100], Loss: 0.2108, Val Loss: 0.6580, Val Accuracy: 0.8551\n",
      "Epoch [56/100], Loss: 0.0662, Val Loss: 0.6855, Val Accuracy: 0.8406\n",
      "Epoch [57/100], Loss: 0.0672, Val Loss: 0.6860, Val Accuracy: 0.8478\n",
      "Epoch [58/100], Loss: 0.0989, Val Loss: 0.6599, Val Accuracy: 0.8551\n",
      "Epoch [59/100], Loss: 0.3886, Val Loss: 0.6740, Val Accuracy: 0.8478\n",
      "Epoch [60/100], Loss: 0.2650, Val Loss: 0.7046, Val Accuracy: 0.8623\n",
      "Epoch [61/100], Loss: 0.0348, Val Loss: 0.7164, Val Accuracy: 0.8478\n",
      "Epoch [62/100], Loss: 0.0543, Val Loss: 0.7303, Val Accuracy: 0.8478\n",
      "Epoch [63/100], Loss: 0.0463, Val Loss: 0.7277, Val Accuracy: 0.8551\n",
      "Epoch [64/100], Loss: 0.1659, Val Loss: 0.7632, Val Accuracy: 0.8551\n",
      "Epoch [65/100], Loss: 0.1141, Val Loss: 0.7659, Val Accuracy: 0.8551\n",
      "Epoch [66/100], Loss: 0.0628, Val Loss: 0.7810, Val Accuracy: 0.8478\n",
      "Epoch [67/100], Loss: 0.0864, Val Loss: 0.8043, Val Accuracy: 0.8551\n",
      "Epoch [68/100], Loss: 0.0709, Val Loss: 0.8070, Val Accuracy: 0.8551\n",
      "Epoch [69/100], Loss: 0.1219, Val Loss: 0.8268, Val Accuracy: 0.8551\n",
      "Epoch [70/100], Loss: 0.1160, Val Loss: 0.8450, Val Accuracy: 0.8478\n",
      "Epoch [71/100], Loss: 0.1896, Val Loss: 0.8583, Val Accuracy: 0.8406\n",
      "Epoch [72/100], Loss: 0.2176, Val Loss: 0.8452, Val Accuracy: 0.8406\n",
      "Epoch [73/100], Loss: 0.1004, Val Loss: 0.8364, Val Accuracy: 0.8478\n",
      "Epoch [74/100], Loss: 0.0913, Val Loss: 0.8398, Val Accuracy: 0.8406\n",
      "Epoch [75/100], Loss: 0.1681, Val Loss: 0.8482, Val Accuracy: 0.8406\n",
      "Epoch [76/100], Loss: 0.1098, Val Loss: 0.8666, Val Accuracy: 0.8478\n",
      "Epoch [77/100], Loss: 0.1047, Val Loss: 0.8621, Val Accuracy: 0.8333\n",
      "Epoch [78/100], Loss: 0.0991, Val Loss: 0.9038, Val Accuracy: 0.8188\n",
      "Epoch [79/100], Loss: 0.0792, Val Loss: 0.9060, Val Accuracy: 0.8406\n",
      "Epoch [80/100], Loss: 0.0453, Val Loss: 0.9246, Val Accuracy: 0.8333\n",
      "Epoch [81/100], Loss: 0.0488, Val Loss: 0.9332, Val Accuracy: 0.8478\n",
      "Epoch [82/100], Loss: 0.2224, Val Loss: 1.0126, Val Accuracy: 0.8333\n",
      "Epoch [83/100], Loss: 0.1187, Val Loss: 0.9206, Val Accuracy: 0.8478\n",
      "Epoch [84/100], Loss: 0.1360, Val Loss: 0.9565, Val Accuracy: 0.8551\n",
      "Epoch [85/100], Loss: 0.0483, Val Loss: 0.9524, Val Accuracy: 0.8478\n",
      "Epoch [86/100], Loss: 0.0732, Val Loss: 1.0084, Val Accuracy: 0.8623\n",
      "Epoch [87/100], Loss: 0.2236, Val Loss: 0.9513, Val Accuracy: 0.8406\n",
      "Epoch [88/100], Loss: 0.0777, Val Loss: 1.0163, Val Accuracy: 0.8406\n",
      "Epoch [89/100], Loss: 0.0348, Val Loss: 0.9878, Val Accuracy: 0.8551\n",
      "Epoch [90/100], Loss: 0.0797, Val Loss: 0.9598, Val Accuracy: 0.8478\n",
      "Epoch [91/100], Loss: 0.2838, Val Loss: 0.9648, Val Accuracy: 0.8478\n",
      "Epoch [92/100], Loss: 0.0946, Val Loss: 1.0126, Val Accuracy: 0.8333\n",
      "Epoch [93/100], Loss: 0.0359, Val Loss: 1.0230, Val Accuracy: 0.8333\n",
      "Epoch [94/100], Loss: 0.0641, Val Loss: 1.0136, Val Accuracy: 0.8333\n",
      "Epoch [95/100], Loss: 0.0596, Val Loss: 1.0285, Val Accuracy: 0.8406\n",
      "Epoch [96/100], Loss: 0.0466, Val Loss: 1.0757, Val Accuracy: 0.8478\n",
      "Epoch [97/100], Loss: 0.0607, Val Loss: 1.1154, Val Accuracy: 0.8478\n",
      "Epoch [98/100], Loss: 0.0598, Val Loss: 1.1010, Val Accuracy: 0.8551\n",
      "Epoch [99/100], Loss: 0.0491, Val Loss: 1.0869, Val Accuracy: 0.8478\n",
      "Epoch [100/100], Loss: 0.0844, Val Loss: 1.1450, Val Accuracy: 0.8478\n"
     ]
    }
   ],
   "source": [
    "for epoch in range(num_epochs):\n",
    "    model.train()\n",
    "    for i in range(0, len(X_train), batch_size):\n",
    "        batch_X = torch.tensor(X_train[i : i + batch_size]).to(device)\n",
    "        batch_Y = torch.tensor(Y_train[i : i + batch_size]).to(device).unsqueeze(1)\n",
    "\n",
    "        optimizer.zero_grad()\n",
    "        outputs = model(batch_X)\n",
    "        loss = criterion(outputs, batch_Y)\n",
    "        loss.backward()\n",
    "        optimizer.step()\n",
    "\n",
    "    # Validation loop\n",
    "    model.eval()\n",
    "    with torch.no_grad():\n",
    "        val_X = torch.tensor(X_val).to(device)\n",
    "        val_Y = torch.tensor(Y_val).to(device).unsqueeze(1)\n",
    "        val_outputs = model(val_X)\n",
    "        val_loss = criterion(val_outputs, val_Y)\n",
    "        val_predictions = (val_outputs > 0.5).float()\n",
    "        val_accuracy = (val_predictions == val_Y).float().mean()\n",
    "\n",
    "        print(\n",
    "            f\"Epoch [{epoch + 1}/{num_epochs}], Loss: {loss.item():.4f}, Val Loss: {val_loss.item():.4f}, Val Accuracy: {val_accuracy.item():.4f}\"\n",
    "        )"
   ]
  },
  {
   "cell_type": "markdown",
   "id": "36c6c6ba",
   "metadata": {},
   "source": [
    "## 9.0 Model Evaluation\n"
   ]
  },
  {
   "cell_type": "code",
   "execution_count": 53,
   "id": "e7b20186",
   "metadata": {},
   "outputs": [
    {
     "name": "stdout",
     "output_type": "stream",
     "text": [
      "              precision    recall  f1-score   support\n",
      "\n",
      "         0.0       0.83      0.93      0.88        73\n",
      "         1.0       0.91      0.78      0.84        64\n",
      "\n",
      "    accuracy                           0.86       137\n",
      "   macro avg       0.87      0.86      0.86       137\n",
      "weighted avg       0.87      0.86      0.86       137\n",
      "\n"
     ]
    },
    {
     "data": {
      "image/png": "[encoded data removed]",
      "text/plain": [
       "<Figure size 640x480 with 1 Axes>"
      ]
     },
     "metadata": {},
     "output_type": "display_data"
    },
    {
     "data": {
      "image/png": "[encoded data removed]",
      "text/plain": [
       "<Figure size 1000x700 with 1 Axes>"
      ]
     },
     "metadata": {},
     "output_type": "display_data"
    }
   ],
   "source": [
    "model.eval()\n",
    "with torch.no_grad():\n",
    "    test_X = torch.tensor(X_test).to(device)\n",
    "    test_Y = torch.tensor(Y_test).to(device).unsqueeze(1)\n",
    "    outputs = model(test_X)\n",
    "    test_Y = test_Y.cpu().numpy().flatten()\n",
    "    outputs = outputs.cpu().numpy().flatten()\n",
    "    df_test = pd.DataFrame({\"plagio\": test_Y, \"similarity\": outputs})\n",
    "\n",
    "evaluate_model(df_test, threshold=0.5)"
   ]
  },
  {
   "cell_type": "code",
   "execution_count": null,
   "id": "79e7f449",
   "metadata": {},
   "outputs": [
    {
     "name": "stdout",
     "output_type": "stream",
     "text": [
      "              precision    recall  f1-score   support\n",
      "\n",
      "         0.0       1.00      0.99      0.99       621\n",
      "         1.0       0.99      0.99      0.99       475\n",
      "\n",
      "    accuracy                           0.99      1096\n",
      "   macro avg       0.99      0.99      0.99      1096\n",
      "weighted avg       0.99      0.99      0.99      1096\n",
      "\n"
     ]
    },
    {
     "data": {
      "image/png": "[encoded data removed]",
      "text/plain": [
       "<Figure size 640x480 with 1 Axes>"
      ]
     },
     "metadata": {},
     "output_type": "display_data"
    },
    {
     "data": {
      "image/png": "[encoded data removed]",
      "text/plain": [
       "<Figure size 1000x700 with 1 Axes>"
      ]
     },
     "metadata": {},
     "output_type": "display_data"
    }
   ],
   "source": [
    "model.eval()\n",
    "with torch.no_grad():\n",
    "    train_X = torch.tensor(X_train).to(device)\n",
    "    train_Y = torch.tensor(Y_train).to(device).unsqueeze(1)\n",
    "    \n",
    "    outputs = model(train_X)\n",
    "    train_Y = train_Y.cpu().numpy().flatten()\n",
    "    outputs = outputs.cpu().numpy().flatten()\n",
    "    df_train = pd.DataFrame({\"plagio\": train_Y, \"similarity\": outputs})\n",
    "\n",
    "evaluate_model(df_train, threshold=0.5)"
   ]
  }
 ],
 "metadata": {
  "kernelspec": {
   "display_name": "aether",
   "language": "python",
   "name": "python3"
  },
  "language_info": {
   "codemirror_mode": {
    "name": "ipython",
    "version": 3
   },
   "file_extension": ".py",
   "mimetype": "text/x-python",
   "name": "python",
   "nbconvert_exporter": "python",
   "pygments_lexer": "ipython3",
   "version": "3.11.12"
  }
 },
 "nbformat": 4,
 "nbformat_minor": 5
}
