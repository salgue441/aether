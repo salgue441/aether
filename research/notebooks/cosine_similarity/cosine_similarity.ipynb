{
 "cells": [
  {
   "cell_type": "markdown",
   "id": "f3602973",
   "metadata": {},
   "source": [
    "## Æther: Pipeline\n"
   ]
  },
  {
   "cell_type": "code",
   "execution_count": null,
   "id": "c5b7b193",
   "metadata": {},
   "outputs": [
    {
     "name": "stdout",
     "output_type": "stream",
     "text": [
      "Using device: cuda\n"
     ]
    }
   ],
   "source": [
    "import os\n",
    "import torch\n",
    "import pandas as pd\n",
    "import numpy as np\n",
    "from pathlib import Path\n",
    "from transformers import AutoTokenizer, AutoModel\n",
    "from datasets import Dataset\n",
    "from tqdm import tqdm\n",
    "from sklearn.model_selection import train_test_split\n",
    "from sklearn.metrics import confusion_matrix, classification_report\n",
    "import matplotlib.pyplot as plt\n",
    "from sklearn.metrics import ConfusionMatrixDisplay\n",
    "\n",
    "# Check for GPU availability\n",
    "device = torch.device(\"cuda\" if torch.cuda.is_available() else \"cpu\")\n",
    "print(f\"Using device: {device}\")"
   ]
  },
  {
   "cell_type": "code",
   "execution_count": 10,
   "id": "8e053705",
   "metadata": {},
   "outputs": [],
   "source": [
    "tokenizer = AutoTokenizer.from_pretrained(\"huggingface/CodeBERTa-small-v1\")\n",
    "model = AutoModel.from_pretrained(\"huggingface/CodeBERTa-small-v1\").to(device)"
   ]
  },
  {
   "cell_type": "code",
   "execution_count": 11,
   "id": "27d252d5",
   "metadata": {},
   "outputs": [],
   "source": [
    "def loadDataset(labels_path, base_dir):\n",
    "    \"\"\"Load dataset more efficiently by reading unique files only once\"\"\"\n",
    "    labels_path = Path(labels_path)\n",
    "    base_dir = Path(base_dir)\n",
    "\n",
    "    # Validate paths\n",
    "    if not labels_path.exists() or not labels_path.is_file():\n",
    "        raise FileNotFoundError(f\"Labels file not found: {labels_path}\")\n",
    "    if not base_dir.exists() or not base_dir.is_dir():\n",
    "        raise FileNotFoundError(f\"Base directory not found: {base_dir}\")\n",
    "\n",
    "    # Load labels\n",
    "    df = pd.read_csv(labels_path)\n",
    "\n",
    "    # Get unique file IDs to load only once\n",
    "    unique_ids = pd.concat([df[\"id1\"], df[\"id2\"]]).unique()\n",
    "\n",
    "    # Load files in one pass\n",
    "    files = {}\n",
    "    for file_id in tqdm(unique_ids, desc=\"Loading files\"):\n",
    "        path = base_dir / f\"{file_id}.java\"\n",
    "        if path.exists():\n",
    "            try:\n",
    "                files[file_id] = path.read_text(encoding=\"utf-8\")\n",
    "            except UnicodeDecodeError:\n",
    "                files[file_id] = path.read_text(encoding=\"latin-1\")\n",
    "        else:\n",
    "            raise FileNotFoundError(f\"File not found: {path}\")\n",
    "\n",
    "    # Map files to dataframe\n",
    "    df[\"file1\"] = df[\"id1\"].map(files)\n",
    "    df[\"file2\"] = df[\"id2\"].map(files)\n",
    "    df[\"plagio\"] = df[\"plagio\"].astype(int)\n",
    "\n",
    "    return df"
   ]
  },
  {
   "cell_type": "code",
   "execution_count": 12,
   "id": "826d2ffa",
   "metadata": {},
   "outputs": [],
   "source": [
    "def encode_batch(texts, batch_size=16):\n",
    "    \"\"\"Custom encoding function that minimizes GPU transfers\"\"\"\n",
    "    all_embeddings = []\n",
    "\n",
    "    # Process in batches to avoid OOM issues\n",
    "    for i in tqdm(range(0, len(texts), batch_size), desc=\"Encoding batches\"):\n",
    "        batch_texts = texts[i : i + batch_size]\n",
    "\n",
    "        # Tokenize on CPU\n",
    "        inputs = tokenizer(\n",
    "            batch_texts, padding=\"max_length\", truncation=True, return_tensors=\"pt\"\n",
    "        )\n",
    "\n",
    "        # Transfer to GPU only once per batch\n",
    "        inputs = {k: v.to(device) for k, v in inputs.items()}\n",
    "\n",
    "        # Get embeddings (no gradient needed)\n",
    "        with torch.no_grad():\n",
    "            outputs = model(**inputs)\n",
    "\n",
    "        # Use mean pooling of last hidden state as embedding\n",
    "        # Taking mean across token dimension (dim=1)\n",
    "        embeddings = torch.mean(outputs.last_hidden_state, dim=1)\n",
    "\n",
    "        # Move back to CPU and convert to numpy only once per batch\n",
    "        all_embeddings.append(embeddings.cpu().numpy())\n",
    "\n",
    "    # Stack all batch results\n",
    "    return np.vstack(all_embeddings) if all_embeddings else np.array([])\n",
    "\n",
    "def encode(text):\n",
    "    \"\"\"Encode a single text input\"\"\"\n",
    "    inputs = tokenizer(\n",
    "        text, padding=\"max_length\", truncation=True, return_tensors=\"pt\"\n",
    "    )\n",
    "    inputs = {k: v.to(device) for k, v in inputs.items()}\n",
    "\n",
    "    with torch.no_grad():\n",
    "        outputs = model(**inputs)\n",
    "\n",
    "    # Use mean pooling of last hidden state as embedding\n",
    "    embeddings = torch.mean(outputs.last_hidden_state, dim=1)[0]\n",
    "    return embeddings.cpu().numpy()\n"
   ]
  },
  {
   "cell_type": "code",
   "execution_count": null,
   "id": "64f1abbf",
   "metadata": {},
   "outputs": [],
   "source": [
    "def process_dataset(dataset):\n",
    "    \"\"\"Process dataset by encoding unique files only once\"\"\"\n",
    "    # Extract all unique files to encode\n",
    "    all_files = []\n",
    "    file_to_idx = {}\n",
    "\n",
    "    # Create list of unique files\n",
    "    unique_files = set()\n",
    "    for file1, file2 in zip(dataset[\"file1\"], dataset[\"file2\"]):\n",
    "        unique_files.add(file1)\n",
    "        unique_files.add(file2)\n",
    "\n",
    "    # Convert to list and create mapping\n",
    "    all_files = list(unique_files)\n",
    "    file_to_idx = {file: idx for idx, file in enumerate(all_files)}\n",
    "\n",
    "    print(f\"Encoding {len(all_files)} unique files...\")\n",
    "\n",
    "    # Encode all unique files at once\n",
    "    all_encodings = encode_batch(all_files, 128)\n",
    "\n",
    "    # Create a dict mapping from file content to encoding\n",
    "    file_to_encoding = {file: all_encodings[idx] for file, idx in file_to_idx.items()}\n",
    "\n",
    "    # Create a map function to add encodings\n",
    "    def add_encodings(example):\n",
    "        return {\n",
    "            \"encodedFile1\": file_to_encoding[example[\"file1\"]],\n",
    "            \"encodedFile2\": file_to_encoding[example[\"file2\"]],\n",
    "        }\n",
    "\n",
    "    # Use dataset.map() to add the encodings columns\n",
    "    return dataset.map(add_encodings)"
   ]
  },
  {
   "cell_type": "code",
   "execution_count": 14,
   "id": "fef3d0db",
   "metadata": {},
   "outputs": [],
   "source": [
    "def compute_cosine_similarity(vec1, vec2):\n",
    "    \"\"\"Compute cosine similarity between two vectors\"\"\"\n",
    "    # Normalize vectors\n",
    "    vec1_norm = vec1 / np.linalg.norm(vec1)\n",
    "    vec2_norm = vec2 / np.linalg.norm(vec2)\n",
    "    # Calculate similarity\n",
    "    return np.dot(vec1_norm, vec2_norm)\n",
    "\n",
    "\n",
    "def add_similarity_scores(dataset):\n",
    "    \"\"\"Add cosine similarity scores to dataset\"\"\"\n",
    "\n",
    "    def add_similarity(example):\n",
    "        sim = compute_cosine_similarity(\n",
    "            example[\"encodedFile1\"], example[\"encodedFile2\"]\n",
    "        )\n",
    "        return {\"similarity\": sim}\n",
    "\n",
    "    # Use dataset.map() to add the similarity column\n",
    "    return dataset.map(add_similarity)"
   ]
  },
  {
   "cell_type": "code",
   "execution_count": 15,
   "id": "0c03e832",
   "metadata": {},
   "outputs": [],
   "source": [
    "def find_optimal_threshold(y_true, y_scores):\n",
    "    \"\"\"\n",
    "    Find the optimal threshold for binary classification using ROC curve.\n",
    "    \"\"\"\n",
    "    from sklearn.metrics import roc_curve\n",
    "\n",
    "    fpr, tpr, thresholds = roc_curve(y_true, y_scores)\n",
    "    optimal_idx = np.argmax(tpr - fpr)\n",
    "    optimal_threshold = thresholds[optimal_idx]\n",
    "    return optimal_threshold\n",
    "\n",
    "def evaluate_model(df):    \n",
    "    threshold = find_optimal_threshold(df[\"plagio\"].values, df[\"similarity\"].values)\n",
    "    print(f\"Optimal threshold: {threshold:.2f}\")\n",
    "    df[\"predicted\"] = df[\"similarity\"].apply(lambda x: 1 if x > threshold else 0)\n",
    "\n",
    "    # Calculate the accuracy\n",
    "    accuracy = (df[\"predicted\"] == df[\"plagio\"]).mean()\n",
    "    print(f\"Accuracy: {accuracy:.2f}\")\n",
    "    # Calculate the confusion matrix\n",
    "    cm = confusion_matrix(df[\"plagio\"], df[\"predicted\"])\n",
    "    # Calculate the classification report\n",
    "    report = classification_report(df[\"plagio\"], df[\"predicted\"])\n",
    "    print(report)\n",
    "    # Plot the confusion matrix\n",
    "    disp = ConfusionMatrixDisplay(confusion_matrix=cm, display_labels=[\"Not Plagiarized\", \"Plagiarized\"])\n",
    "    disp.plot()\n",
    "    plt.title(\"Confusion Matrix\")\n",
    "    plt.show()\n",
    "    # Plot the distribution of the similarity scores\n",
    "    plt.figure(figsize=(10, 7))\n",
    "    plt.hist(df[\"similarity\"], bins=50, alpha=0.7, color=\"blue\", label=\"Similarity Scores\")\n",
    "    plt.axvline(threshold, color=\"red\", linestyle=\"--\")\n",
    "    plt.xlabel(\"Similarity Score\")\n",
    "    plt.ylabel(\"Frequency\")\n",
    "    plt.title(\"Distribution of Similarity Scores\")\n",
    "    plt.show()\n",
    "    # Plot the distribution of the similarity scores for plagiarized and not plagiarized"
   ]
  },
  {
   "cell_type": "code",
   "execution_count": 16,
   "id": "d9ccbf79",
   "metadata": {},
   "outputs": [
    {
     "name": "stdout",
     "output_type": "stream",
     "text": [
      "Loading dataset...\n"
     ]
    },
    {
     "name": "stderr",
     "output_type": "stream",
     "text": [
      "Loading files: 100%|██████████| 975/975 [00:00<00:00, 28404.46it/s]\n"
     ]
    },
    {
     "name": "stdout",
     "output_type": "stream",
     "text": [
      "Processing dataset...\n",
      "Encoding 946 unique files...\n"
     ]
    },
    {
     "name": "stderr",
     "output_type": "stream",
     "text": [
      "Encoding batches: 100%|██████████| 8/8 [00:12<00:00,  1.56s/it]\n",
      "Map: 100%|██████████| 911/911 [00:00<00:00, 11720.28 examples/s]\n"
     ]
    },
    {
     "name": "stdout",
     "output_type": "stream",
     "text": [
      "Computing similarity scores...\n"
     ]
    },
    {
     "name": "stderr",
     "output_type": "stream",
     "text": [
      "Map: 100%|██████████| 911/911 [00:00<00:00, 1611.53 examples/s]"
     ]
    },
    {
     "name": "stdout",
     "output_type": "stream",
     "text": [
      "Done!\n"
     ]
    },
    {
     "name": "stderr",
     "output_type": "stream",
     "text": [
      "\n"
     ]
    }
   ],
   "source": [
    "import time\n",
    "\n",
    "# Define paths\n",
    "LABELS_PATH = \"../../labels/conplag_labels.csv\"\n",
    "BASE_DIR = \"../../datasets/conplag_preprocesed\"\n",
    "# LABELS_PATH = \"research/labels/conplag_labels.csv\"\n",
    "# BASE_DIR = \"research/datasets/conplag_preprocesed\"\n",
    "\n",
    "# Load the dataset\n",
    "print(\"Loading dataset...\")\n",
    "df = loadDataset(LABELS_PATH, BASE_DIR)\n",
    "dataset = Dataset.from_pandas(df)\n",
    "\n",
    "# Process dataset (encode files)\n",
    "print(\"Processing dataset...\")\n",
    "encoded_dataset = process_dataset(dataset)\n",
    "\n",
    "# Compute similarity scores\n",
    "print(\"Computing similarity scores...\")\n",
    "final_dataset = add_similarity_scores(encoded_dataset)\n",
    "\n",
    "df = final_dataset.to_pandas()\n",
    "\n",
    "print(\"Done!\")"
   ]
  },
  {
   "cell_type": "code",
   "execution_count": 17,
   "id": "c6eb4330",
   "metadata": {},
   "outputs": [
    {
     "name": "stdout",
     "output_type": "stream",
     "text": [
      "Optimal threshold: 0.93\n",
      "Accuracy: 0.81\n",
      "              precision    recall  f1-score   support\n",
      "\n",
      "           0       0.82      0.95      0.88       660\n",
      "           1       0.78      0.45      0.57       251\n",
      "\n",
      "    accuracy                           0.81       911\n",
      "   macro avg       0.80      0.70      0.72       911\n",
      "weighted avg       0.81      0.81      0.79       911\n",
      "\n"
     ]
    },
    {
     "data": {
      "image/png": "[encoded data removed]",
      "text/plain": [
       "<Figure size 640x480 with 2 Axes>"
      ]
     },
     "metadata": {},
     "output_type": "display_data"
    },
    {
     "data": {
      "image/png": "[encoded data removed]",
      "text/plain": [
       "<Figure size 1000x700 with 1 Axes>"
      ]
     },
     "metadata": {},
     "output_type": "display_data"
    }
   ],
   "source": [
    "evaluate_model(df)"
   ]
  }
 ],
 "metadata": {
  "kernelspec": {
   "display_name": ".venv",
   "language": "python",
   "name": "python3"
  },
  "language_info": {
   "codemirror_mode": {
    "name": "ipython",
    "version": 3
   },
   "file_extension": ".py",
   "mimetype": "text/x-python",
   "name": "python",
   "nbconvert_exporter": "python",
   "pygments_lexer": "ipython3",
   "version": "3.10.12"
  }
 },
 "nbformat": 4,
 "nbformat_minor": 5
}
