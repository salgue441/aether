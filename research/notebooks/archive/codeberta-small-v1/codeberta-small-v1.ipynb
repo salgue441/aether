{
 "cells": [
  {
   "cell_type": "markdown",
   "id": "59d8190c",
   "metadata": {},
   "source": [
    "# Æther: Moden Code Plagiarism Detection with CodeBERTa\n",
    "\n",
    "This notebook implements a robust pipeline for detecting code plagiarism using the CodeBERTa model and multiple similarity metrics.\n"
   ]
  },
  {
   "cell_type": "markdown",
   "id": "22541561",
   "metadata": {},
   "source": [
    "## 1. Configuration\n"
   ]
  },
  {
   "cell_type": "code",
   "execution_count": 21,
   "id": "767cdeb1",
   "metadata": {},
   "outputs": [],
   "source": [
    "import os\n",
    "import time\n",
    "import gc\n",
    "import logging\n",
    "import warnings\n",
    "from pathlib import Path\n",
    "from dataclasses import dataclass, field\n",
    "from typing import (\n",
    "    Dict,\n",
    "    List,\n",
    "    Tuple,\n",
    "    Optional,\n",
    "    Any,\n",
    "    Union,\n",
    "    Callable,\n",
    "    TypeVar,\n",
    "    Generic,\n",
    "    cast,\n",
    ")\n",
    "from functools import lru_cache, partial\n",
    "from concurrent.futures import ThreadPoolExecutor\n",
    "import multiprocessing"
   ]
  },
  {
   "cell_type": "code",
   "execution_count": 22,
   "id": "b7dde079",
   "metadata": {},
   "outputs": [],
   "source": [
    "import numpy as np\n",
    "import pandas as pd\n",
    "import torch\n",
    "import torch.nn.functional as F\n",
    "from torch.utils.data import Dataset, DataLoader\n",
    "from transformers import (\n",
    "    RobertaTokenizer,\n",
    "    RobertaModel,\n",
    "    PreTrainedTokenizer,\n",
    "    PreTrainedModel,\n",
    ")\n",
    "import matplotlib.pyplot as plt\n",
    "import seaborn as sns\n",
    "from sklearn.metrics import (\n",
    "    accuracy_score,\n",
    "    precision_recall_fscore_support,\n",
    "    confusion_matrix,\n",
    "    roc_curve,\n",
    "    auc,\n",
    "    precision_recall_curve,\n",
    ")\n",
    "from tqdm.auto import tqdm\n",
    "import Levenshtein"
   ]
  },
  {
   "cell_type": "markdown",
   "id": "99306d46",
   "metadata": {},
   "source": [
    "### 1.1 Setup Logging\n"
   ]
  },
  {
   "cell_type": "code",
   "execution_count": 23,
   "id": "eaaa9d4e",
   "metadata": {},
   "outputs": [],
   "source": [
    "logging.basicConfig(\n",
    "    level=logging.INFO,\n",
    "    format=\"[%(asctime)s] %(levelname)s: %(message)s\",\n",
    "    datefmt=\"%H:%M:%S\",\n",
    ")\n",
    "\n",
    "logger = logging.getLogger(__name__)"
   ]
  },
  {
   "cell_type": "markdown",
   "id": "df75f993",
   "metadata": {},
   "source": [
    "### 1.2 Suppress Warnings & Configure Plot Styles\n"
   ]
  },
  {
   "cell_type": "code",
   "execution_count": 24,
   "id": "30338529",
   "metadata": {},
   "outputs": [],
   "source": [
    "warnings.filterwarnings(\"ignore\")"
   ]
  },
  {
   "cell_type": "code",
   "execution_count": 25,
   "id": "67ec9d51",
   "metadata": {},
   "outputs": [],
   "source": [
    "plt.style.use(\"fivethirtyeight\")\n",
    "sns.set_style(\"whitegrid\")\n",
    "sns.set_context(\"notebook\", font_scale=1.2)"
   ]
  },
  {
   "cell_type": "markdown",
   "id": "e870c9f7",
   "metadata": {},
   "source": [
    "### 1.3 Type Hints\n"
   ]
  },
  {
   "cell_type": "code",
   "execution_count": 26,
   "id": "1218e07d",
   "metadata": {},
   "outputs": [],
   "source": [
    "T = TypeVar(\"T\")\n",
    "ModelType = TypeVar(\"ModelType\", bound=PreTrainedModel)\n",
    "TokenizerType = TypeVar(\"TokenizerType\", bound=PreTrainedTokenizer)"
   ]
  },
  {
   "cell_type": "markdown",
   "id": "220485ef",
   "metadata": {},
   "source": [
    "### 1.4 Configuration\n"
   ]
  },
  {
   "cell_type": "code",
   "execution_count": 27,
   "id": "b047b3bb",
   "metadata": {},
   "outputs": [],
   "source": [
    "@dataclass\n",
    "class Config:\n",
    "    \"\"\"Configuration for the plagiarism detection pipeline.\"\"\"\n",
    "\n",
    "    # Paths - Define as static values first\n",
    "    BASE_PATH: Path = Path(\"../../\")\n",
    "    RESULTS_PATH: Path = Path(\"./results\")\n",
    "    CACHE_DIR: Path = Path(\"./cache\")\n",
    "    DATASET_PATH: Path = BASE_PATH / \"datasets\" / \"conplag_preprocessed\"\n",
    "    LABELS_PATH: Path = BASE_PATH / \"labels\"\n",
    "\n",
    "    # Model Configuration\n",
    "    MODEL_NAME: str = \"huggingface/CodeBERTa-small-v1\"\n",
    "    MAX_LENGTH: int = 512\n",
    "    BATCH_SIZE: int = 16\n",
    "    NUM_WORKERS: int = field(\n",
    "        default_factory=lambda: max(1, multiprocessing.cpu_count() // 2)\n",
    "    )\n",
    "    CACHE_SIZE: int = 1024\n",
    "\n",
    "    # Important flags\n",
    "    USE_FP16: bool = False\n",
    "    SKIP_MISSING_FILES: bool = False\n",
    "    FILE_EXTENSIONS = [\".java\"]\n",
    "\n",
    "    # Memory optimization\n",
    "    CLEAR_CUDA_CACHE: bool = True\n",
    "    BATCH_PROCESSING: bool = True\n",
    "    MAX_BATCH_SIZE_OVERRIDE: int = 4\n",
    "\n",
    "    # File handling options\n",
    "    DEBUG_FILE_PATHS: bool = True\n",
    "    DETAILED_LOGGING: bool = True\n",
    "\n",
    "    # Similarity configuration\n",
    "    SIMILARITY_WEIGHTS: Tuple[float, float, float] = (\n",
    "        0.6,\n",
    "        0.2,\n",
    "        0.2,\n",
    "    )  # (bert, edit, token)\n",
    "    SIMILARITY_TIMEOUT: int = 10\n",
    "\n",
    "    # Metrics visualization\n",
    "    SAVE_VISUALIZATIONS: bool = True\n",
    "\n",
    "    @classmethod\n",
    "    def initialize(cls) -> None:\n",
    "        \"\"\"\n",
    "        Initialize configuration\n",
    "        \"\"\"\n",
    "\n",
    "        for directory in [cls.RESULTS_PATH, cls.CACHE_DIR]:\n",
    "            directory.mkdir(exist_ok=True, parents=True)\n",
    "\n",
    "        if torch.cuda.is_available():\n",
    "            torch.backends.cudnn.benchmark = True\n",
    "            logger.info(f\"Using GPU: {torch.cuda.get_device_name(0)}\")\n",
    "\n",
    "        else:\n",
    "            logger.info(\"GPU not available, using CPU\")\n",
    "\n",
    "        torch.set_grad_enabled(False)"
   ]
  },
  {
   "cell_type": "markdown",
   "id": "3aaf2532",
   "metadata": {},
   "source": [
    "## 2. CodePair\n"
   ]
  },
  {
   "cell_type": "code",
   "execution_count": 28,
   "id": "587b71aa",
   "metadata": {},
   "outputs": [],
   "source": [
    "@dataclass\n",
    "class CodePair:\n",
    "    \"\"\"\n",
    "    Represents a pair of code samples with their metadata and similarity.\n",
    "    \"\"\"\n",
    "\n",
    "    id1: str\n",
    "    id2: str\n",
    "    problem: str\n",
    "    label: int\n",
    "    code1: Optional[str] = None\n",
    "    code2: Optional[str] = None\n",
    "    embedding1: Optional[torch.Tensor] = None\n",
    "    embedding2: Optional[torch.Tensor] = None\n",
    "    similarity: Optional[float] = None\n",
    "\n",
    "    def to_dict(self) -> Dict[str, Any]:\n",
    "        \"\"\"\n",
    "        Convert to dictionary for results storage.\n",
    "        \"\"\"\n",
    "\n",
    "        return {\n",
    "            \"id1\": self.id1,\n",
    "            \"id2\": self.id2,\n",
    "            \"problem\": self.problem,\n",
    "            \"label\": self.label,\n",
    "            \"similarity\": (\n",
    "                self.similarity if self.similarity is not None else float(\"nan\")\n",
    "            ),\n",
    "        }"
   ]
  },
  {
   "cell_type": "markdown",
   "id": "39b8943c",
   "metadata": {},
   "source": [
    "## 3. File Utils\n"
   ]
  },
  {
   "cell_type": "code",
   "execution_count": 29,
   "id": "83c30eda",
   "metadata": {},
   "outputs": [],
   "source": [
    "class FileUtils:\n",
    "    \"\"\"\n",
    "    Utilities for file operations with caching and error handling.\n",
    "    \"\"\"\n",
    "\n",
    "    @staticmethod\n",
    "    def find_file_with_extensions(\n",
    "        base_path: Path, file_id: str, extensions: List[str]\n",
    "    ) -> Optional[Path]:\n",
    "        \"\"\"\n",
    "        Find a file with any of the given extensions.\n",
    "\n",
    "        Args:\n",
    "            base_path: Base directory to search in\n",
    "            file_id: File identifier (without extension)\n",
    "            extensions: List of possible file extensions to try\n",
    "\n",
    "        Returns:\n",
    "            Path to the file if found, None otherwise\n",
    "        \"\"\"\n",
    "\n",
    "        for ext in extensions:\n",
    "            file_path = base_path / f\"{file_id}{ext}\"\n",
    "\n",
    "            if file_path.exists():\n",
    "                if Config.DEBUG_FILE_PATHS:\n",
    "                    logger.debug(f\"Found file at: {file_path}\")\n",
    "                return file_path\n",
    "\n",
    "        if Config.DEBUG_FILE_PATHS:\n",
    "            logger.warning(\n",
    "                f\"File not found for ID: {file_id} in directory: {base_path}\"\n",
    "            )\n",
    "\n",
    "            available_files = list(base_path.glob(\"*\"))[:10]\n",
    "            logger.debug(f\"Sample of available files: {available_files}\")\n",
    "\n",
    "        return None\n",
    "\n",
    "    @staticmethod\n",
    "    @lru_cache(maxsize=Config.CACHE_SIZE)\n",
    "    def load_code_from_file(file_path: str) -> str:\n",
    "        \"\"\"\n",
    "        Load code from file with caching for faster repeated access.\n",
    "\n",
    "        Args:\n",
    "            file_path: Path to the file to read\n",
    "\n",
    "        Returns:\n",
    "            File contents as string, or empty string on error\n",
    "        \"\"\"\n",
    "\n",
    "        try:\n",
    "            with open(file_path, \"r\", encoding=\"utf-8\") as f:\n",
    "                return f.read()\n",
    "\n",
    "        except UnicodeDecodeError:\n",
    "            try:\n",
    "                with open(file_path, \"r\", encoding=\"latin-1\") as f:\n",
    "                    return f.read()\n",
    "\n",
    "            except Exception as e:\n",
    "                logger.warning(f\"Error loading {file_path} with latin-1 encoding: {e}\")\n",
    "                return \"\"\n",
    "\n",
    "        except FileNotFoundError:\n",
    "            logger.warning(f\"File not found: {file_path}\")\n",
    "            return \"// Empty file or file not found\"\n",
    "\n",
    "        except Exception as e:\n",
    "            logger.warning(f\"Error loading {file_path}: {e}\")\n",
    "            return \"\"\n",
    "\n",
    "    @staticmethod\n",
    "    def scan_dataset_directory(dataset_path: Path) -> Dict[str, int]:\n",
    "        \"\"\"\n",
    "        Scan the dataset directory to understand its structure.\n",
    "\n",
    "        Args:\n",
    "            dataset_path: Path to the dataset directory\n",
    "\n",
    "        Returns:\n",
    "            Dictionary with file extension counts\n",
    "        \"\"\"\n",
    "\n",
    "        logger.info(f\"Scanning dataset directory: {dataset_path}\")\n",
    "        if not dataset_path.exists():\n",
    "            logger.error(f\"Dataset path does not exist: {dataset_path}\")\n",
    "            return {}\n",
    "\n",
    "        file_counts, total_files = {}, 0\n",
    "        for item in dataset_path.iterdir():\n",
    "            if item.is_file():\n",
    "                total_files += 1\n",
    "                ext = item.suffix\n",
    "\n",
    "                if ext in file_counts:\n",
    "                    file_counts[ext] += 1\n",
    "                else:\n",
    "                    file_counts[ext] = 1\n",
    "\n",
    "        logger.info(f\"Found {total_files} files in dataset directory\")\n",
    "        logger.info(f\"File extension counts: {file_counts}\")\n",
    "\n",
    "        sample_files = list(dataset_path.glob(\"*\"))[:5]\n",
    "        logger.info(f\"Sample files: {sample_files}\")\n",
    "\n",
    "        return file_counts\n",
    "\n",
    "    @staticmethod\n",
    "    def load_labels(csv_path: Path) -> pd.DataFrame:\n",
    "        \"\"\"\n",
    "        Load and process label dataset.\n",
    "\n",
    "        Args:\n",
    "            csv_path: Path to the CSV file with labels\n",
    "\n",
    "        Returns:\n",
    "            DataFrame with processed labels\n",
    "\n",
    "        Raises:\n",
    "            FileNotFoundError: If the labels file doesn't exist\n",
    "        \"\"\"\n",
    "\n",
    "        if not csv_path.exists():\n",
    "            raise FileNotFoundError(f\"Labels file not found: {csv_path}\")\n",
    "\n",
    "        df = pd.read_csv(csv_path)\n",
    "        logger.info(f\"Loaded {len(df)} labeled code pairs from {csv_path}\")\n",
    "\n",
    "        if \"id1\" in df.columns and not pd.api.types.is_string_dtype(df[\"id1\"]):\n",
    "            df[\"id1\"] = df[\"id1\"].astype(str)\n",
    "\n",
    "        if \"id2\" in df.columns and not pd.api.types.is_string_dtype(df[\"id2\"]):\n",
    "            df[\"id2\"] = df[\"id2\"].astype(str)\n",
    "\n",
    "        if \"plagio\" in df.columns:\n",
    "            df[\"plagio\"] = df[\"plagio\"].astype(int)\n",
    "\n",
    "        return df"
   ]
  },
  {
   "cell_type": "markdown",
   "id": "c0ea15ba",
   "metadata": {},
   "source": [
    "## 4.0 Dataset\n"
   ]
  },
  {
   "cell_type": "code",
   "execution_count": 30,
   "id": "0de1b645",
   "metadata": {},
   "outputs": [],
   "source": [
    "class PlagiarismDataset(Dataset):\n",
    "    \"\"\"\n",
    "    Dataset for code pairs with efficient loading and caching.\n",
    "    \"\"\"\n",
    "\n",
    "    def __init__(\n",
    "        self,\n",
    "        labels_df: pd.DataFrame,\n",
    "        dataset_path: Path,\n",
    "        tokenizer: PreTrainedTokenizer,\n",
    "        max_length: int = 512,\n",
    "    ):\n",
    "        \"\"\"\n",
    "        Initialize the dataset.\n",
    "\n",
    "        Args:\n",
    "            labels_df: DataFrame with code pair labels\n",
    "            dataset_path: Path to the directory with code files\n",
    "            tokenizer: Tokenizer for encoding code\n",
    "            max_length: Maximum sequence length for tokenization\n",
    "        \"\"\"\n",
    "\n",
    "        self.labels_df = labels_df\n",
    "        self.dataset_path = dataset_path\n",
    "        self.tokenizer = tokenizer\n",
    "        self.max_length = max_length\n",
    "        self.code_cache: Dict[str, str] = {}\n",
    "\n",
    "        if not self.dataset_path.exists():\n",
    "            logger.warning(f\"Dataset path does not exist: {self.dataset_path}\")\n",
    "\n",
    "    def __len__(self) -> int:\n",
    "        \"\"\"\n",
    "        Get the number of code pairs in the dataset.\n",
    "        \"\"\"\n",
    "\n",
    "        return len(self.labels_df)\n",
    "\n",
    "    def _get_code(self, file_id: str) -> str:\n",
    "        \"\"\"\n",
    "        Get code with memory-efficient caching.\n",
    "\n",
    "        Args:\n",
    "            file_id: Identifier for the code file (without extension)\n",
    "\n",
    "        Returns:\n",
    "            Contents of the code file as string\n",
    "        \"\"\"\n",
    "\n",
    "        if file_id in self.code_cache:\n",
    "            return self.code_cache[file_id]\n",
    "\n",
    "        file_path = FileUtils.find_file_with_extensions(\n",
    "            self.dataset_path, file_id, Config.FILE_EXTENSIONS\n",
    "        )\n",
    "\n",
    "        if file_path is None:\n",
    "            if Config.SKIP_MISSING_FILES:\n",
    "                logger.warning(f\"File not found: {file_id}\")\n",
    "                return \"// Empty file or file not found\"\n",
    "\n",
    "            else:\n",
    "                raise FileNotFoundError(f\"File not found: {file_id}\")\n",
    "\n",
    "        code = FileUtils.load_code_from_file(str(file_path))\n",
    "\n",
    "        if len(code) < 50000:\n",
    "            self.code_cache[file_id] = code\n",
    "\n",
    "        return code\n",
    "\n",
    "    def _tokenize(self, text: str) -> Dict[str, torch.Tensor]:\n",
    "        \"\"\"\n",
    "        Tokenize a single text efficiently.\n",
    "\n",
    "        Args:\n",
    "            text: Text to tokenize\n",
    "\n",
    "        Returns:\n",
    "            Dictionary with tokenized inputs\n",
    "        \"\"\"\n",
    "\n",
    "        return self.tokenizer(\n",
    "            text,\n",
    "            padding=\"max_length\",\n",
    "            truncation=True,\n",
    "            max_length=self.max_length,\n",
    "            return_tensors=\"pt\",\n",
    "        )\n",
    "\n",
    "    def __getitem__(self, idx: int) -> Dict[str, Any]:\n",
    "        \"\"\"\n",
    "        Get a single code pair with its tokenized representations.\n",
    "\n",
    "        Args:\n",
    "            idx: Index of the item to get\n",
    "\n",
    "        Returns:\n",
    "            Dictionary with tokenized inputs and metadata\n",
    "        \"\"\"\n",
    "\n",
    "        row = self.labels_df.iloc[idx]\n",
    "        code1_id = row[\"id1\"]\n",
    "        code2_id = row[\"id2\"]\n",
    "\n",
    "        try:\n",
    "            code1 = self._get_code(code1_id)\n",
    "            code2 = self._get_code(code2_id)\n",
    "\n",
    "            inputs1 = self._tokenize(code1)\n",
    "            inputs2 = self._tokenize(code2)\n",
    "\n",
    "            for key in inputs1:\n",
    "                inputs1[key] = inputs1[key].squeeze(0)\n",
    "\n",
    "            for key in inputs2:\n",
    "                inputs2[key] = inputs2[key].squeeze(0)\n",
    "\n",
    "            label = torch.tensor(row[\"plagio\"], dtype=torch.float)\n",
    "\n",
    "            return {\n",
    "                \"code1_input_ids\": inputs1[\"input_ids\"],\n",
    "                \"code1_attention_mask\": inputs1[\"attention_mask\"],\n",
    "                \"code2_input_ids\": inputs2[\"input_ids\"],\n",
    "                \"code2_attention_mask\": inputs2[\"attention_mask\"],\n",
    "                \"label\": label,\n",
    "                \"id1\": row[\"id1\"],\n",
    "                \"id2\": row[\"id2\"],\n",
    "                \"problem\": row.get(\"problem\", \"unknown\"),\n",
    "                \"code1\": code1,\n",
    "                \"code2\": code2,\n",
    "            }\n",
    "\n",
    "        except Exception as e:\n",
    "            logger.error(f\"Error processing item {idx} ({code1_id}, {code2_id}): {e}\")\n",
    "            return {}"
   ]
  },
  {
   "cell_type": "markdown",
   "id": "ee572223",
   "metadata": {},
   "source": [
    "## 5. Model Handler\n"
   ]
  },
  {
   "cell_type": "code",
   "execution_count": 31,
   "id": "c3249563",
   "metadata": {},
   "outputs": [],
   "source": [
    "class ModelHandler:\n",
    "    \"\"\"\n",
    "    Handles model loading and inference.\n",
    "    \"\"\"\n",
    "\n",
    "    @staticmethod\n",
    "    def load_model() -> Tuple[RobertaTokenizer, RobertaModel]:\n",
    "        \"\"\"\n",
    "        Load the CodeBERTa model with optimizations.\n",
    "\n",
    "        Returns:\n",
    "            Tuple of (tokenizer, model)\n",
    "\n",
    "        Raises:\n",
    "            RuntimeError: If model loading fails\n",
    "        \"\"\"\n",
    "\n",
    "        try:\n",
    "            device = torch.device(\"cuda\" if torch.cuda.is_available() else \"cpu\")\n",
    "\n",
    "            tokenizer = RobertaTokenizer.from_pretrained(Config.MODEL_NAME)\n",
    "            model = RobertaModel.from_pretrained(\n",
    "                Config.MODEL_NAME, torchscript=True, return_dict=True\n",
    "            )\n",
    "\n",
    "            model = model.to(device)\n",
    "            model.eval()\n",
    "\n",
    "            if Config.USE_FP16 and torch.cuda.is_available():\n",
    "                model = model.half()\n",
    "\n",
    "            return tokenizer, model\n",
    "\n",
    "        except Exception as e:\n",
    "            logger.error(f\"Error loading model: {e}\")\n",
    "            raise RuntimeError(f\"Failed to load model: {e}\")\n",
    "\n",
    "    @staticmethod\n",
    "    @torch.no_grad()\n",
    "    def get_code_embedding(\n",
    "        model: RobertaModel, input_ids: torch.Tensor, attention_mask: torch.Tensor\n",
    "    ) -> torch.Tensor:\n",
    "        \"\"\"\n",
    "        Compute code embedding efficiently.\n",
    "\n",
    "        Args:\n",
    "            model: The CodeBERTa model\n",
    "            input_ids: Token IDs from tokenizer\n",
    "            attention_mask: Attention mask from tokenizer\n",
    "\n",
    "        Returns:\n",
    "            Embedding tensor\n",
    "        \"\"\"\n",
    "\n",
    "        device = next(model.parameters()).device\n",
    "\n",
    "        try:\n",
    "            if input_ids.dim() == 1:\n",
    "                input_ids = input_ids.unsqueeze(0)\n",
    "\n",
    "            if attention_mask.dim() == 1:\n",
    "                attention_mask = attention_mask.unsqueeze(0)\n",
    "\n",
    "            input_ids = input_ids.to(device, dtype=torch.long)\n",
    "            attention_mask = attention_mask.to(device, dtype=torch.float)\n",
    "            outputs = model(input_ids, attention_mask=attention_mask)\n",
    "\n",
    "            if isinstance(outputs, tuple):\n",
    "                embedding = outputs[0][:, 0, :]\n",
    "\n",
    "            else:\n",
    "                embedding = outputs.last_hidden_state[:, 0, :]\n",
    "\n",
    "            return embedding\n",
    "        except Exception as e:\n",
    "            logger.error(f\"Error in get_code_embedding: {e}\")\n",
    "            return torch.zeros(model.config.hidden_size, device=device)"
   ]
  },
  {
   "cell_type": "markdown",
   "id": "042723fc",
   "metadata": {},
   "source": [
    "## 6. Similarity Metrics\n"
   ]
  },
  {
   "cell_type": "code",
   "execution_count": 32,
   "id": "f1b697f1",
   "metadata": {},
   "outputs": [],
   "source": [
    "class SimilarityMetrics:\n",
    "    \"\"\"\n",
    "    Different similarity metrics for code comparison.\n",
    "    \"\"\"\n",
    "\n",
    "    @staticmethod\n",
    "    def get_bert_similarity(\n",
    "        code1: str,\n",
    "        code2: str,\n",
    "        model: RobertaModel,\n",
    "        tokenizer: RobertaTokenizer,\n",
    "        device: torch.device,\n",
    "    ) -> float:\n",
    "        \"\"\"\n",
    "        Calculate semantic similarity using BERT embeddings.\n",
    "\n",
    "        Args:\n",
    "            code1: First code string\n",
    "            code2: Second code string\n",
    "            model: CodeBERTa model\n",
    "            tokenizer: CodeBERTa tokenizer\n",
    "            device: Device to run model on\n",
    "\n",
    "        Returns:\n",
    "            Cosine similarity score (0-1)\n",
    "        \"\"\"\n",
    "\n",
    "        try:\n",
    "            inputs1 = tokenizer(\n",
    "                code1,\n",
    "                return_tensors=\"pt\",\n",
    "                truncation=True,\n",
    "                max_length=Config.MAX_LENGTH,\n",
    "                padding=\"max_length\",\n",
    "            ).to(device)\n",
    "\n",
    "            inputs2 = tokenizer(\n",
    "                code2,\n",
    "                return_tensors=\"pt\",\n",
    "                truncation=True,\n",
    "                max_length=Config.MAX_LENGTH,\n",
    "                padding=\"max_length\",\n",
    "            ).to(device)\n",
    "\n",
    "            with torch.no_grad():\n",
    "                outputs1 = model(**inputs1)\n",
    "                outputs2 = model(**inputs2)\n",
    "\n",
    "                if isinstance(outputs1, tuple):\n",
    "                    emb1 = outputs1[0][:, 0, :]\n",
    "                    emb2 = outputs2[0][:, 0, :]\n",
    "\n",
    "                else:\n",
    "                    emb1 = outputs1.last_hidden_state[:, 0, :]\n",
    "                    emb2 = outputs2.last_hidden_state[:, 0, :]\n",
    "\n",
    "                return F.cosine_similarity(emb1, emb2).item()\n",
    "\n",
    "        except Exception as e:\n",
    "            logger.error(f\"BERT similarity error: {e}\")\n",
    "            return 0.0\n",
    "\n",
    "    @staticmethod\n",
    "    def get_edit_similarity(code1: str, code2: str) -> float:\n",
    "        \"\"\"\n",
    "        Calculate edit distance-based similarity.\n",
    "\n",
    "        Args:\n",
    "            code1: First code string\n",
    "            code2: Second code string\n",
    "\n",
    "        Returns:\n",
    "            Edit distance-based similarity score (0-1)\n",
    "        \"\"\"\n",
    "\n",
    "        try:\n",
    "            if not code1 and not code2:\n",
    "                return 1.0\n",
    "\n",
    "            max_len = max(len(code1), len(code2))\n",
    "            if max_len == 0:\n",
    "                return 1.0\n",
    "\n",
    "            return 1 - (Levenshtein.distance(code1, code2) / max_len)\n",
    "\n",
    "        except Exception as e:\n",
    "            logger.error(f\"Edit similarity error: {e}\")\n",
    "            return 0.0\n",
    "\n",
    "    @staticmethod\n",
    "    def get_token_similarity(code1: str, code2: str) -> float:\n",
    "        \"\"\"\n",
    "        Calculate token-based Jaccard similarity.\n",
    "\n",
    "        Args:\n",
    "            code1: First code string\n",
    "            code2: Second code string\n",
    "\n",
    "        Returns:\n",
    "            Jaccard similarity score (0-1)\n",
    "        \"\"\"\n",
    "\n",
    "        try:\n",
    "            tokens1 = set(code1.split())\n",
    "            tokens2 = set(code2.split())\n",
    "\n",
    "            if not tokens1 and not tokens2:\n",
    "                return 1.0\n",
    "\n",
    "            intersection = len(tokens1 & tokens2)\n",
    "            union = len(tokens1 | tokens2)\n",
    "\n",
    "            return intersection / union if union else 0.0\n",
    "\n",
    "        except Exception as e:\n",
    "            logger.error(f\"Token similarity error: {e}\")\n",
    "            return 0.0\n",
    "\n",
    "    @staticmethod\n",
    "    def concurrent_similarity(\n",
    "        similarity_func: Callable[..., float],\n",
    "        code1: str,\n",
    "        code2: str,\n",
    "        *args: Any,\n",
    "        timeout: int = 10,\n",
    "        executor: Optional[ThreadPoolExecutor] = None,\n",
    "    ) -> float:\n",
    "        \"\"\"\n",
    "        Run a similarity function in a separate thread with timeout.\n",
    "\n",
    "        Args:\n",
    "            similarity_func: The similarity function to run\n",
    "            code1: First code string\n",
    "            code2: Second code string\n",
    "            args: Additional arguments for the similarity function\n",
    "            timeout: Maximum time to wait (seconds)\n",
    "            executor: Existing executor to use (or None to create a new one)\n",
    "\n",
    "        Returns:\n",
    "            Similarity score (0-1)\n",
    "        \"\"\"\n",
    "        try:\n",
    "            close_executor = executor is None\n",
    "            if close_executor:\n",
    "                executor = ThreadPoolExecutor(max_workers=1)\n",
    "\n",
    "            future = executor.submit(similarity_func, code1, code2, *args)\n",
    "            result = future.result(timeout=timeout)\n",
    "\n",
    "            if close_executor:\n",
    "                executor.shutdown(wait=False)\n",
    "\n",
    "            return result\n",
    "\n",
    "        except Exception as e:\n",
    "            logger.error(\n",
    "                f\"Error in concurrent similarity ({similarity_func.__name__}): {e}\"\n",
    "            )\n",
    "\n",
    "            return 0.0\n",
    "\n",
    "    @staticmethod\n",
    "    def ensemble_similarity(\n",
    "        code1: str,\n",
    "        code2: str,\n",
    "        model: RobertaModel,\n",
    "        tokenizer: RobertaTokenizer,\n",
    "        device: torch.device,\n",
    "        weights: Tuple[float, float, float] = (0.6, 0.2, 0.2),\n",
    "        use_concurrent: bool = True,\n",
    "        timeout: int = 10,\n",
    "    ) -> float:\n",
    "        \"\"\"\n",
    "        Compute weighted ensemble similarity score using multiple methods.\n",
    "\n",
    "        Args:\n",
    "            code1: First code string\n",
    "            code2: Second code string\n",
    "            model: CodeBERTa model\n",
    "            tokenizer: CodeBERTa tokenizer\n",
    "            device: Device to run model on\n",
    "            weights: [bert_weight, edit_weight, token_weight]\n",
    "            use_concurrent: Whether to use concurrent processing\n",
    "            timeout: Maximum time (seconds) to wait for similarity calculations\n",
    "\n",
    "        Returns:\n",
    "            Normalized similarity score (0-1)\n",
    "        \"\"\"\n",
    "\n",
    "        if not code1 or not code2:\n",
    "            logger.warning(\"Empty code samples provided to similarity function\")\n",
    "            return 0.0\n",
    "        \n",
    "        weights_array = np.array(weights) / sum(weights)\n",
    "\n",
    "        try:\n",
    "            if not use_concurrent:\n",
    "                bert_sim = SimilarityMetrics.get_bert_similarity(\n",
    "                    code1, code2, model, tokenizer, device\n",
    "                )\n",
    "                edit_sim = SimilarityMetrics.get_edit_similarity(code1, code2)\n",
    "                token_sim = SimilarityMetrics.get_token_similarity(code1, code2)\n",
    "\n",
    "            else:\n",
    "                with ThreadPoolExecutor(max_workers=3) as executor:\n",
    "                    bert_future = executor.submit(\n",
    "                        SimilarityMetrics.get_bert_similarity,\n",
    "                        code1,\n",
    "                        code2,\n",
    "                        model,\n",
    "                        tokenizer,\n",
    "                        device,\n",
    "                    )\n",
    "\n",
    "                    edit_future = executor.submit(\n",
    "                        SimilarityMetrics.get_edit_similarity, code1, code2\n",
    "                    )\n",
    "\n",
    "                    token_future = executor.submit(\n",
    "                        SimilarityMetrics.get_token_similarity, code1, code2\n",
    "                    )\n",
    "\n",
    "                    from concurrent.futures import wait\n",
    "\n",
    "                    all_futures = [bert_future, edit_future, token_future]\n",
    "                    done, not_done = wait(all_futures, timeout=timeout)\n",
    "\n",
    "                    for future in not_done:\n",
    "                        future.cancel()\n",
    "                        logger.warning(f\"A similarity calculation timed out\")\n",
    "\n",
    "                    bert_sim = bert_future.result() if bert_future in done else 0.0\n",
    "                    edit_sim = edit_future.result() if edit_future in done else 0.0\n",
    "                    token_sim = token_future.result() if token_future in done else 0.0\n",
    "\n",
    "            if Config.DETAILED_LOGGING:\n",
    "                logger.debug(\n",
    "                    f\"Similarity scores - BERT: {bert_sim:.4f}, \"\n",
    "                    f\"Edit: {edit_sim:.4f}, Token: {token_sim:.4f}\"\n",
    "                )\n",
    "\n",
    "            return (\n",
    "                weights_array[0] * bert_sim\n",
    "                + weights_array[1] * edit_sim\n",
    "                + weights_array[2] * token_sim\n",
    "            )\n",
    "\n",
    "        except Exception as e:\n",
    "            logger.error(f\"Error in ensemble similarity calculation: {e}\")\n",
    "            return 0.0"
   ]
  },
  {
   "cell_type": "markdown",
   "id": "383b4ea0",
   "metadata": {},
   "source": [
    "## 7.0 Metrics Evaluator\n"
   ]
  },
  {
   "cell_type": "code",
   "execution_count": 33,
   "id": "5fc0dbb9",
   "metadata": {},
   "outputs": [],
   "source": [
    "class MetricsEvaluator:\n",
    "    \"\"\"Evaluates plagiarism detection performance.\"\"\"\n",
    "\n",
    "    @staticmethod\n",
    "    def validate_results(results: List[Dict[str, Any]]) -> List[Dict[str, Any]]:\n",
    "        \"\"\"\n",
    "        Filter out results with invalid similarity scores.\n",
    "\n",
    "        Args:\n",
    "            results: List of result dictionaries\n",
    "\n",
    "        Returns:\n",
    "            Filtered list with only valid results\n",
    "        \"\"\"\n",
    "        valid_results = []\n",
    "        for r in results:\n",
    "            if r.get(\"similarity\") is not None and not (\n",
    "                isinstance(r[\"similarity\"], float) and np.isnan(r[\"similarity\"])\n",
    "            ):\n",
    "                valid_results.append(r)\n",
    "\n",
    "            else:\n",
    "                logger.warning(\n",
    "                    f\"Invalid similarity score for pair {r['id1']}-{r['id2']}\"\n",
    "                )\n",
    "\n",
    "        return valid_results\n",
    "\n",
    "    @staticmethod\n",
    "    def compute_metrics(\n",
    "        results: List[Dict[str, Any]], threshold: float = 0.5\n",
    "    ) -> Dict[str, float]:\n",
    "        \"\"\"\n",
    "        Compute evaluation metrics with validation.\n",
    "\n",
    "        Args:\n",
    "            results: List of result dictionaries\n",
    "            threshold: Threshold for binary classification\n",
    "\n",
    "        Returns:\n",
    "            Dictionary with computed metrics\n",
    "        \"\"\"\n",
    "\n",
    "        valid_results = MetricsEvaluator.validate_results(results)\n",
    "        if not valid_results:\n",
    "            logger.error(\"No valid results for metrics calculation\")\n",
    "            return {\n",
    "                \"accuracy\": 0.0,\n",
    "                \"precision\": 0.0,\n",
    "                \"recall\": 0.0,\n",
    "                \"f1\": 0.0,\n",
    "                \"roc_auc\": 0.0,\n",
    "                \"pr_auc\": 0.0,\n",
    "                \"threshold\": threshold,\n",
    "            }\n",
    "\n",
    "        labels = [r[\"label\"] for r in valid_results]\n",
    "        similarities = [r[\"similarity\"] for r in valid_results]\n",
    "        predictions = [(s > threshold) * 1.0 for s in similarities]\n",
    "\n",
    "        try:\n",
    "            accuracy = accuracy_score(labels, predictions)\n",
    "            precision, recall, f1, _ = precision_recall_fscore_support(\n",
    "                labels, predictions, average=\"binary\", zero_division=0\n",
    "            )\n",
    "\n",
    "            # ROC AUC\n",
    "            fpr, tpr, _ = roc_curve(labels, similarities)\n",
    "            roc_auc = auc(fpr, tpr)\n",
    "\n",
    "            # PR AUC\n",
    "            precision_curve, recall_curve, _ = precision_recall_curve(\n",
    "                labels, similarities\n",
    "            )\n",
    "            pr_auc = auc(recall_curve, precision_curve)\n",
    "\n",
    "            return {\n",
    "                \"accuracy\": accuracy,\n",
    "                \"precision\": precision,\n",
    "                \"recall\": recall,\n",
    "                \"f1\": f1,\n",
    "                \"roc_auc\": roc_auc,\n",
    "                \"pr_auc\": pr_auc,\n",
    "                \"threshold\": threshold,\n",
    "            }\n",
    "\n",
    "        except Exception as e:\n",
    "            logger.error(f\"Error computing metrics: {e}\")\n",
    "            return {\n",
    "                \"accuracy\": 0.0,\n",
    "                \"precision\": 0.0,\n",
    "                \"recall\": 0.0,\n",
    "                \"f1\": 0.0,\n",
    "                \"roc_auc\": 0.0,\n",
    "                \"pr_auc\": 0.0,\n",
    "                \"threshold\": threshold,\n",
    "            }\n",
    "\n",
    "    @staticmethod\n",
    "    def find_optimal_threshold(\n",
    "        results: List[Dict[str, Any]], beta: float = 1.0\n",
    "    ) -> float:\n",
    "        \"\"\"\n",
    "        Find the optimal threshold based on F-beta score\n",
    "\n",
    "        Args:\n",
    "            results: List of result directories\n",
    "            beta: Beta parameter for F-beta scores (beta < 1 gives more weight\n",
    "                  to precision)\n",
    "\n",
    "        Returns:\n",
    "            Optimal threshold value for classification\n",
    "        \"\"\"\n",
    "\n",
    "        valid_results = MetricsEvaluator.validate_results(results)\n",
    "        if not valid_results:\n",
    "            logger.error(\"No valid results for threshold calculation\")\n",
    "            return 0.5\n",
    "\n",
    "        labels = [r[\"label\"] for r in valid_results]\n",
    "        similarities = [r[\"similarity\"] for r in valid_results]\n",
    "\n",
    "        try:\n",
    "            precision, recall, thresholds = precision_recall_curve(labels, similarities)\n",
    "\n",
    "            fbeta_scores = ((1 + beta**2) * precision[:-1] * recall[:-1]) / (\n",
    "                (beta**2 * precision[:-1]) + recall[:-1] + 1e-10\n",
    "            )\n",
    "\n",
    "            best_idx = np.argmax(fbeta_scores)\n",
    "            return thresholds[best_idx] if best_idx < len(thresholds) else 0.5\n",
    "\n",
    "        except Exception as e:\n",
    "            logger.error(f\"Error finding optimal threshold: {e}\")\n",
    "            return 0.1"
   ]
  },
  {
   "cell_type": "markdown",
   "id": "6956fcb2",
   "metadata": {},
   "source": [
    "## 8. Visualizer\n"
   ]
  },
  {
   "cell_type": "code",
   "execution_count": 34,
   "id": "d3166453",
   "metadata": {},
   "outputs": [],
   "source": [
    "class Visualizer:\n",
    "    \"\"\"Creates visualizations of plagiarism detection results.\"\"\"\n",
    "\n",
    "    @staticmethod\n",
    "    def generate_visualizations(\n",
    "        results: List[Dict[str, Any]],\n",
    "        metrics: Dict[str, float],\n",
    "        optimal_threshold: float,\n",
    "    ) -> None:\n",
    "        \"\"\"\n",
    "        Generate comprehensive visualization of results.\n",
    "\n",
    "        Args:\n",
    "            results: List of result dictionaries\n",
    "            metrics: Dictionary with computed metrics\n",
    "            optimal_threshold: Optimal threshold value\n",
    "        \"\"\"\n",
    "\n",
    "        labels = np.array([r[\"label\"] for r in results])\n",
    "        similarities = np.array([r[\"similarity\"] for r in results])\n",
    "        predictions = (similarities > optimal_threshold).astype(int)\n",
    "\n",
    "        plt.figure(figsize=(20, 16))\n",
    "        plt.suptitle(\"Plagiarism Detection Performance Metrics\", fontsize=16, y=1.02)\n",
    "\n",
    "        # 1. Confusion Matrix\n",
    "        plt.subplot(2, 3, 1)\n",
    "        cm = confusion_matrix(labels, predictions)\n",
    "        sns.heatmap(\n",
    "            cm,\n",
    "            annot=True,\n",
    "            fmt=\"d\",\n",
    "            cmap=\"Blues\",\n",
    "            xticklabels=[\"Not Plagiarism\", \"Plagiarism\"],\n",
    "            yticklabels=[\"Not Plagiarism\", \"Plagiarism\"],\n",
    "        )\n",
    "        plt.xlabel(\"Predicted\")\n",
    "        plt.ylabel(\"Actual\")\n",
    "        plt.title(\"Confusion Matrix\")\n",
    "\n",
    "        # 2. ROC Curve\n",
    "        plt.subplot(2, 3, 2)\n",
    "        fpr, tpr, _ = roc_curve(labels, similarities)\n",
    "        roc_auc = metrics[\"roc_auc\"]\n",
    "        plt.plot(\n",
    "            fpr, tpr, color=\"darkorange\", lw=2, label=f\"ROC curve (AUC = {roc_auc:.3f})\"\n",
    "        )\n",
    "        plt.plot([0, 1], [0, 1], color=\"navy\", lw=2, linestyle=\"--\")\n",
    "        plt.xlim([0.0, 1.0])\n",
    "        plt.ylim([0.0, 1.05])\n",
    "        plt.xlabel(\"False Positive Rate\")\n",
    "        plt.ylabel(\"True Positive Rate\")\n",
    "        plt.title(\"ROC Curve\")\n",
    "        plt.legend(loc=\"lower right\")\n",
    "\n",
    "        # 3. Precision-Recall Curve\n",
    "        plt.subplot(2, 3, 3)\n",
    "        precision, recall, _ = precision_recall_curve(labels, similarities)\n",
    "        pr_auc = metrics[\"pr_auc\"]\n",
    "        plt.plot(\n",
    "            recall,\n",
    "            precision,\n",
    "            color=\"green\",\n",
    "            lw=2,\n",
    "            label=f\"PR curve (AUC = {pr_auc:.3f})\",\n",
    "        )\n",
    "        plt.axhline(\n",
    "            y=sum(labels) / len(labels), color=\"blue\", linestyle=\"--\", label=\"No Skill\"\n",
    "        )\n",
    "        plt.xlim([0.0, 1.0])\n",
    "        plt.ylim([0.0, 1.05])\n",
    "        plt.xlabel(\"Recall\")\n",
    "        plt.ylabel(\"Precision\")\n",
    "        plt.title(\"Precision-Recall Curve\")\n",
    "        plt.legend(loc=\"lower left\")\n",
    "\n",
    "        # 4. Similarity Distribution\n",
    "        plt.subplot(2, 3, 4)\n",
    "        sns.histplot(\n",
    "            x=similarities,\n",
    "            hue=labels.astype(int),\n",
    "            bins=50,\n",
    "            palette=[\"skyblue\", \"salmon\"],\n",
    "            alpha=0.7,\n",
    "            element=\"step\",\n",
    "            common_norm=False,\n",
    "        )\n",
    "        plt.xlabel(\"Similarity Score\")\n",
    "        plt.ylabel(\"Count\")\n",
    "        plt.title(\"Similarity Score Distribution\")\n",
    "        plt.legend([\"Not Plagiarized\", \"Plagiarized\"])\n",
    "        plt.axvline(\n",
    "            x=optimal_threshold,\n",
    "            color=\"purple\",\n",
    "            linestyle=\"--\",\n",
    "            label=f\"Threshold: {optimal_threshold:.3f}\",\n",
    "        )\n",
    "\n",
    "        # 5. Threshold Optimization\n",
    "        plt.subplot(2, 3, 5)\n",
    "        precision, recall, thresholds = precision_recall_curve(labels, similarities)\n",
    "        f1_scores = (\n",
    "            2 * (precision[:-1] * recall[:-1]) / (precision[:-1] + recall[:-1] + 1e-10)\n",
    "        )\n",
    "        plt.plot(thresholds, precision[:-1], \"b--\", label=\"Precision\")\n",
    "        plt.plot(thresholds, recall[:-1], \"g-\", label=\"Recall\")\n",
    "        plt.plot(thresholds, f1_scores, \"r-.\", label=\"F1 Score\")\n",
    "        plt.axvline(\n",
    "            x=optimal_threshold,\n",
    "            color=\"purple\",\n",
    "            linestyle=\":\",\n",
    "            label=f\"Optimal: {optimal_threshold:.3f}\",\n",
    "        )\n",
    "        plt.xlabel(\"Threshold\")\n",
    "        plt.ylabel(\"Score\")\n",
    "        plt.title(\"Metrics vs. Threshold\")\n",
    "        plt.legend()\n",
    "\n",
    "        # 6. Metrics table\n",
    "        plt.subplot(2, 3, 6)\n",
    "        metrics_data = [\n",
    "            [\"Accuracy\", f\"{metrics['accuracy']:.3f}\"],\n",
    "            [\"Precision\", f\"{metrics['precision']:.3f}\"],\n",
    "            [\"Recall\", f\"{metrics['recall']:.3f}\"],\n",
    "            [\"F1 Score\", f\"{metrics['f1']:.3f}\"],\n",
    "            [\"ROC AUC\", f\"{metrics['roc_auc']:.3f}\"],\n",
    "            [\"PR AUC\", f\"{metrics['pr_auc']:.3f}\"],\n",
    "            [\"Optimal Threshold\", f\"{optimal_threshold:.3f}\"],\n",
    "        ]\n",
    "\n",
    "        table = plt.table(\n",
    "            cellText=metrics_data,\n",
    "            colLabels=[\"Metric\", \"Value\"],\n",
    "            loc=\"center\",\n",
    "            cellLoc=\"center\",\n",
    "            colWidths=[0.4, 0.3],\n",
    "        )\n",
    "\n",
    "        table.auto_set_font_size(False)\n",
    "        table.set_fontsize(12)\n",
    "        table.scale(1, 1.5)\n",
    "        plt.axis(\"off\")\n",
    "        plt.title(\"Performance Metrics Summary\")\n",
    "\n",
    "        plt.tight_layout()\n",
    "\n",
    "        if Config.SAVE_VISUALIZATIONS:\n",
    "            plt.savefig(\n",
    "                str(Config.RESULTS_PATH / \"results.png\"), dpi=300, bbox_inches=\"tight\"\n",
    "            )\n",
    "\n",
    "        plt.show()\n",
    "        plt.close()"
   ]
  },
  {
   "cell_type": "markdown",
   "id": "a95df84d",
   "metadata": {},
   "source": [
    "## 9.0 Plagiarism Detection\n"
   ]
  },
  {
   "cell_type": "code",
   "execution_count": 35,
   "id": "f0f2e034",
   "metadata": {},
   "outputs": [],
   "source": [
    "class PlagiarismDetector:\n",
    "    \"\"\"\n",
    "    Main class for the plagiarism detection pipeline.\n",
    "    \"\"\"\n",
    "\n",
    "    def __init__(self, config: Config = Config()):\n",
    "        \"\"\"\n",
    "        Initialize the plagiarism detector.\n",
    "\n",
    "        Args:\n",
    "            config: Configuration object\n",
    "        \"\"\"\n",
    "\n",
    "        self.config = config\n",
    "        self.device = torch.device(\"cuda\" if torch.cuda.is_available() else \"cpu\")\n",
    "        self.tokenizer = None\n",
    "        self.model = None\n",
    "\n",
    "        # Ensure directories exist\n",
    "        Config.initialize()\n",
    "\n",
    "    def load_model(self) -> None:\n",
    "        \"\"\"\n",
    "        Load the model and tokenizer\n",
    "        \"\"\"\n",
    "\n",
    "        self.tokenizer, self.model = ModelHandler.load_model()\n",
    "        logger.info(f\"Model loaded: {Config.MODEL_NAME}\")\n",
    "\n",
    "    def load_dataset(self, labels_file: Path) -> Tuple[pd.DataFrame, PlagiarismDataset]:\n",
    "        \"\"\"\n",
    "        Load the labels and create dataset.\n",
    "\n",
    "        Args:\n",
    "            labels_file: Path to labels CSV file\n",
    "\n",
    "        Returns:\n",
    "            Tuple of (labels_df, dataset)\n",
    "        \"\"\"\n",
    "\n",
    "        FileUtils.scan_dataset_directory(Config.DATASET_PATH)\n",
    "        labels_df = FileUtils.load_labels(labels_file)\n",
    "        dataset = PlagiarismDataset(\n",
    "            labels_df, Config.DATASET_PATH, self.tokenizer, Config.MAX_LENGTH\n",
    "        )\n",
    "\n",
    "        logger.info(f\"Dataset created with {len(dataset)} code pairs\")\n",
    "        return labels_df, dataset\n",
    "\n",
    "    def process_in_batches(\n",
    "        self,\n",
    "        dataset: PlagiarismDataset,\n",
    "        batch_size: int = 8,\n",
    "        max_items: Optional[int] = None,\n",
    "        adaptive_batching: bool = True,\n",
    "    ) -> List[Dict[str, Any]]:\n",
    "        \"\"\"\n",
    "        Process the dataset in smaller batches with a single progress bar.\n",
    "\n",
    "        Args:\n",
    "            dataset: The dataset to process\n",
    "            batch_size: Starting batch size\n",
    "            max_items: Maximum number of items to process\n",
    "            adaptive_batching: Whether to adapt batch size based on errors\n",
    "\n",
    "        Returns:\n",
    "            List of results\n",
    "        \"\"\"\n",
    "\n",
    "        if self.model is None or self.tokenizer is None:\n",
    "            self.load_model()\n",
    "\n",
    "        max_items = (\n",
    "            min(max_items, len(dataset)) if max_items is not None else len(dataset)\n",
    "        )\n",
    "        all_results = []\n",
    "\n",
    "        class TqdmLoggingHandler(logging.Handler):\n",
    "            def emit(self, record):\n",
    "                try:\n",
    "                    msg = self.format(record)\n",
    "                    tqdm.write(msg)\n",
    "                except Exception:\n",
    "                    self.handleError(record)\n",
    "\n",
    "        tqdm_handler = TqdmLoggingHandler()\n",
    "        tqdm_handler.setFormatter(\n",
    "            logging.Formatter(\"[%(asctime)s] %(levelname)s: %(message)s\", \"%H:%M:%S\")\n",
    "        )\n",
    "\n",
    "        logger.addHandler(tqdm_handler)\n",
    "\n",
    "        try:\n",
    "            with tqdm(\n",
    "                total=max_items, desc=\"Processing dataset\", unit=\"sample\"\n",
    "            ) as pbar:\n",
    "                processed = 0\n",
    "                current_batch_size = batch_size\n",
    "                error_count = 0\n",
    "\n",
    "                while processed < max_items:\n",
    "                    if error_count > 3 and adaptive_batching and current_batch_size > 1:\n",
    "                        old_batch_size = current_batch_size\n",
    "                        current_batch_size = max(1, current_batch_size // 2)\n",
    "\n",
    "                        logger.warning(\n",
    "                            f\"Reducing batch size from {old_batch_size} to {current_batch_size}\"\n",
    "                        )\n",
    "\n",
    "                        error_count = 0\n",
    "\n",
    "                    start_idx = processed\n",
    "                    end_idx = min(start_idx + current_batch_size, max_items)\n",
    "                    batch_size_actual = end_idx - start_idx\n",
    "\n",
    "                    if batch_size_actual <= 0:\n",
    "                        break\n",
    "\n",
    "                    logger.info(\n",
    "                        f\"Processing items {start_idx+1}-{end_idx} with batch size {batch_size_actual}\"\n",
    "                    )\n",
    "\n",
    "                    try:\n",
    "                        subset = torch.utils.data.Subset(\n",
    "                            dataset, range(start_idx, end_idx)\n",
    "                        )\n",
    "                        dataloader = DataLoader(\n",
    "                            subset,\n",
    "                            batch_size=min(\n",
    "                                batch_size_actual, Config.MAX_BATCH_SIZE_OVERRIDE\n",
    "                            ),\n",
    "                            shuffle=False,\n",
    "                            num_workers=1,\n",
    "                            pin_memory=torch.cuda.is_available(),\n",
    "                        )\n",
    "\n",
    "                        batch_results = []\n",
    "                        for batch in dataloader:\n",
    "                            code1_samples = batch[\"code1\"]\n",
    "                            code2_samples = batch[\"code2\"]\n",
    "                            batch_size_inner = len(batch[\"label\"])\n",
    "\n",
    "                            similarities = []\n",
    "                            for i in range(batch_size_inner):\n",
    "                                if batch.get(\"is_placeholder\", False):\n",
    "                                    similarities.append(0.0)\n",
    "                                    continue\n",
    "\n",
    "                                code1 = code1_samples[i]\n",
    "                                code2 = code2_samples[i]\n",
    "\n",
    "                                similarity = SimilarityMetrics.ensemble_similarity(\n",
    "                                    code1,\n",
    "                                    code2,\n",
    "                                    self.model,\n",
    "                                    self.tokenizer,\n",
    "                                    self.device,\n",
    "                                    weights=Config.SIMILARITY_WEIGHTS,\n",
    "                                    use_concurrent=True,\n",
    "                                    timeout=Config.SIMILARITY_TIMEOUT,\n",
    "                                )\n",
    "                                similarities.append(similarity)\n",
    "\n",
    "                            for i in range(batch_size_inner):\n",
    "                                batch_results.append(\n",
    "                                    {\n",
    "                                        \"id1\": batch[\"id1\"][i],\n",
    "                                        \"id2\": batch[\"id2\"][i],\n",
    "                                        \"problem\": batch[\"problem\"][i],\n",
    "                                        \"label\": batch[\"label\"][i].item(),\n",
    "                                        \"similarity\": similarities[i],\n",
    "                                    }\n",
    "                                )\n",
    "\n",
    "                        failed_count = sum(\n",
    "                            1\n",
    "                            for r in batch_results\n",
    "                            if r[\"similarity\"] is None\n",
    "                            or (\n",
    "                                isinstance(r[\"similarity\"], float)\n",
    "                                and np.isnan(r[\"similarity\"])\n",
    "                            )\n",
    "                        )\n",
    "\n",
    "                        if failed_count > 0:\n",
    "                            error_count += 1\n",
    "                            logger.warning(\n",
    "                                f\"{failed_count}/{len(batch_results)} similarity calculations failed\"\n",
    "                            )\n",
    "\n",
    "                        else:\n",
    "                            error_count = max(0, error_count - 1)\n",
    "\n",
    "                        all_results.extend(batch_results)\n",
    "\n",
    "                    except Exception as e:\n",
    "                        logger.error(f\"Error processing batch: {e}\")\n",
    "                        error_count += 1\n",
    "\n",
    "                    processed += batch_size_actual\n",
    "                    pbar.update(batch_size_actual)\n",
    "\n",
    "                    if Config.CLEAR_CUDA_CACHE and torch.cuda.is_available():\n",
    "                        torch.cuda.empty_cache()\n",
    "                        gc.collect()\n",
    "\n",
    "                        time.sleep(0.2)\n",
    "\n",
    "        finally:\n",
    "            logger.removeHandler(tqdm_handler)\n",
    "\n",
    "        return all_results\n",
    "\n",
    "    def evaluate_results(self, results: List[Dict[str, Any]]) -> Dict[str, Any]:\n",
    "        \"\"\"\n",
    "        Evaluate results and generate visualizations.\n",
    "\n",
    "        Args:\n",
    "            results: List of result dictionaries\n",
    "\n",
    "        Returns:\n",
    "            Dictionary with metrics and optimal threshold\n",
    "        \"\"\"\n",
    "\n",
    "        valid_results = MetricsEvaluator.validate_results(results)\n",
    "        if not valid_results:\n",
    "            logger.error(\"No valid results available for analysis\")\n",
    "            return {\n",
    "                \"metrics\": {\n",
    "                    \"accuracy\": 0.0,\n",
    "                    \"precision\": 0.0,\n",
    "                    \"recall\": 0.0,\n",
    "                    \"f1\": 0.0,\n",
    "                    \"roc_auc\": 0.0,\n",
    "                    \"pr_auc\": 0.0,\n",
    "                    \"threshold\": 0.5,\n",
    "                },\n",
    "                \"optimal_threshold\": 0.5,\n",
    "            }\n",
    "\n",
    "        optimal_threshold = MetricsEvaluator.find_optimal_threshold(\n",
    "            valid_results, beta=1.5\n",
    "        )\n",
    "\n",
    "        metrics = MetricsEvaluator.compute_metrics(valid_results, optimal_threshold)\n",
    "\n",
    "        Visualizer.generate_visualizations(valid_results, metrics, optimal_threshold)\n",
    "\n",
    "        return {\n",
    "            \"metrics\": metrics,\n",
    "            \"optimal_threshold\": optimal_threshold,\n",
    "        }\n",
    "\n",
    "    def run(\n",
    "        self,\n",
    "        labels_file: Path,\n",
    "        batch_size: int = 8,\n",
    "        max_items: Optional[int] = None,\n",
    "    ) -> Dict[str, Any]:\n",
    "        \"\"\"\n",
    "        Run the full plagiarism detection pipeline.\n",
    "\n",
    "        Args:\n",
    "            labels_file: Path to labels CSV file\n",
    "            batch_size: Batch size for processing\n",
    "            max_items: Maximum number of items to process\n",
    "\n",
    "        Returns:\n",
    "            Dictionary with results\n",
    "        \"\"\"\n",
    "\n",
    "        logger.info(\"Starting plagiarism detection pipeline\")\n",
    "        if self.model is None or self.tokenizer is None:\n",
    "            self.load_model()\n",
    "\n",
    "        _, dataset = self.load_dataset(labels_file)\n",
    "        results = self.process_in_batches(dataset, batch_size, max_items)\n",
    "        evaluation = self.evaluate_results(results)\n",
    "\n",
    "        logger.info(\"Plagiarism detection pipeline completed\")\n",
    "\n",
    "        return {\n",
    "            \"results\": results,\n",
    "            \"metrics\": evaluation[\"metrics\"],\n",
    "            \"optimal_threshold\": evaluation[\"optimal_threshold\"],\n",
    "        }"
   ]
  },
  {
   "cell_type": "markdown",
   "id": "09c441bd",
   "metadata": {},
   "source": [
    "## Main Execution\n"
   ]
  },
  {
   "cell_type": "code",
   "execution_count": 36,
   "id": "ef484660",
   "metadata": {},
   "outputs": [
    {
     "name": "stderr",
     "output_type": "stream",
     "text": [
      "[17:46:49] INFO: Using GPU: NVIDIA GeForce RTX 3060 Laptop GPU\n"
     ]
    }
   ],
   "source": [
    "config = Config()\n",
    "Config.initialize()"
   ]
  },
  {
   "cell_type": "code",
   "execution_count": 37,
   "id": "225ad5af",
   "metadata": {},
   "outputs": [
    {
     "name": "stderr",
     "output_type": "stream",
     "text": [
      "[17:46:50] INFO: Using GPU: NVIDIA GeForce RTX 3060 Laptop GPU\n"
     ]
    }
   ],
   "source": [
    "detector = PlagiarismDetector(config)"
   ]
  },
  {
   "cell_type": "code",
   "execution_count": 38,
   "id": "002c9c62",
   "metadata": {},
   "outputs": [],
   "source": [
    "labels_file = Config.LABELS_PATH / \"conplag_labels.csv\""
   ]
  },
  {
   "cell_type": "code",
   "execution_count": 39,
   "id": "ebdb1947",
   "metadata": {},
   "outputs": [
    {
     "name": "stderr",
     "output_type": "stream",
     "text": [
      "[17:46:50] INFO: Starting plagiarism detection pipeline\n",
      "[17:46:50] INFO: Model loaded: huggingface/CodeBERTa-small-v1\n",
      "[17:46:50] INFO: Scanning dataset directory: ../../datasets/conplag_preprocessed\n",
      "[17:46:50] INFO: Found 975 files in dataset directory\n",
      "[17:46:50] INFO: File extension counts: {'.java': 975}\n",
      "[17:46:50] INFO: Sample files: [PosixPath('../../datasets/conplag_preprocessed/f7a0ea6d.java'), PosixPath('../../datasets/conplag_preprocessed/e18ae6a1.java'), PosixPath('../../datasets/conplag_preprocessed/5a340556.java'), PosixPath('../../datasets/conplag_preprocessed/3bd7275e.java'), PosixPath('../../datasets/conplag_preprocessed/584b0e9e.java')]\n",
      "[17:46:50] INFO: Loaded 911 labeled code pairs from ../../labels/conplag_labels.csv\n",
      "[17:46:50] INFO: Dataset created with 911 code pairs\n"
     ]
    },
    {
     "data": {
      "application/vnd.jupyter.widget-view+json": {
       "model_id": "186eba5d34ab4ebba67f763f794103e4",
       "version_major": 2,
       "version_minor": 0
      },
      "text/plain": [
       "Processing dataset:   0%|          | 0/911 [00:00<?, ?sample/s]"
      ]
     },
     "metadata": {},
     "output_type": "display_data"
    },
    {
     "name": "stderr",
     "output_type": "stream",
     "text": [
      "[17:46:50] INFO: Processing items 1-16 with batch size 16\n"
     ]
    },
    {
     "name": "stdout",
     "output_type": "stream",
     "text": [
      "[17:46:50] INFO: Processing items 1-16 with batch size 16\n"
     ]
    },
    {
     "name": "stderr",
     "output_type": "stream",
     "text": [
      "[17:46:51] INFO: Processing items 17-32 with batch size 16\n"
     ]
    },
    {
     "name": "stdout",
     "output_type": "stream",
     "text": [
      "[17:46:51] INFO: Processing items 17-32 with batch size 16\n"
     ]
    },
    {
     "name": "stderr",
     "output_type": "stream",
     "text": [
      "[17:46:52] INFO: Processing items 33-48 with batch size 16\n"
     ]
    },
    {
     "name": "stdout",
     "output_type": "stream",
     "text": [
      "[17:46:52] INFO: Processing items 33-48 with batch size 16\n"
     ]
    },
    {
     "name": "stderr",
     "output_type": "stream",
     "text": [
      "[17:46:53] INFO: Processing items 49-64 with batch size 16\n"
     ]
    },
    {
     "name": "stdout",
     "output_type": "stream",
     "text": [
      "[17:46:53] INFO: Processing items 49-64 with batch size 16\n"
     ]
    },
    {
     "name": "stderr",
     "output_type": "stream",
     "text": [
      "[17:46:55] INFO: Processing items 65-80 with batch size 16\n"
     ]
    },
    {
     "name": "stdout",
     "output_type": "stream",
     "text": [
      "[17:46:55] INFO: Processing items 65-80 with batch size 16\n"
     ]
    },
    {
     "name": "stderr",
     "output_type": "stream",
     "text": [
      "[17:46:56] INFO: Processing items 81-96 with batch size 16\n"
     ]
    },
    {
     "name": "stdout",
     "output_type": "stream",
     "text": [
      "[17:46:56] INFO: Processing items 81-96 with batch size 16\n"
     ]
    },
    {
     "name": "stderr",
     "output_type": "stream",
     "text": [
      "[17:46:57] INFO: Processing items 97-112 with batch size 16\n"
     ]
    },
    {
     "name": "stdout",
     "output_type": "stream",
     "text": [
      "[17:46:57] INFO: Processing items 97-112 with batch size 16\n"
     ]
    },
    {
     "name": "stderr",
     "output_type": "stream",
     "text": [
      "[17:46:58] INFO: Processing items 113-128 with batch size 16\n"
     ]
    },
    {
     "name": "stdout",
     "output_type": "stream",
     "text": [
      "[17:46:58] INFO: Processing items 113-128 with batch size 16\n"
     ]
    },
    {
     "name": "stderr",
     "output_type": "stream",
     "text": [
      "[17:46:59] INFO: Processing items 129-144 with batch size 16\n"
     ]
    },
    {
     "name": "stdout",
     "output_type": "stream",
     "text": [
      "[17:46:59] INFO: Processing items 129-144 with batch size 16\n"
     ]
    },
    {
     "name": "stderr",
     "output_type": "stream",
     "text": [
      "[17:47:00] INFO: Processing items 145-160 with batch size 16\n"
     ]
    },
    {
     "name": "stdout",
     "output_type": "stream",
     "text": [
      "[17:47:00] INFO: Processing items 145-160 with batch size 16\n"
     ]
    },
    {
     "name": "stderr",
     "output_type": "stream",
     "text": [
      "[17:47:01] INFO: Processing items 161-176 with batch size 16\n"
     ]
    },
    {
     "name": "stdout",
     "output_type": "stream",
     "text": [
      "[17:47:01] INFO: Processing items 161-176 with batch size 16\n"
     ]
    },
    {
     "name": "stderr",
     "output_type": "stream",
     "text": [
      "[17:47:02] INFO: Processing items 177-192 with batch size 16\n"
     ]
    },
    {
     "name": "stdout",
     "output_type": "stream",
     "text": [
      "[17:47:02] INFO: Processing items 177-192 with batch size 16\n"
     ]
    },
    {
     "name": "stderr",
     "output_type": "stream",
     "text": [
      "[17:47:03] INFO: Processing items 193-208 with batch size 16\n"
     ]
    },
    {
     "name": "stdout",
     "output_type": "stream",
     "text": [
      "[17:47:03] INFO: Processing items 193-208 with batch size 16\n"
     ]
    },
    {
     "name": "stderr",
     "output_type": "stream",
     "text": [
      "[17:47:04] INFO: Processing items 209-224 with batch size 16\n"
     ]
    },
    {
     "name": "stdout",
     "output_type": "stream",
     "text": [
      "[17:47:04] INFO: Processing items 209-224 with batch size 16\n"
     ]
    },
    {
     "name": "stderr",
     "output_type": "stream",
     "text": [
      "[17:47:05] INFO: Processing items 225-240 with batch size 16\n"
     ]
    },
    {
     "name": "stdout",
     "output_type": "stream",
     "text": [
      "[17:47:05] INFO: Processing items 225-240 with batch size 16\n"
     ]
    },
    {
     "name": "stderr",
     "output_type": "stream",
     "text": [
      "[17:47:06] INFO: Processing items 241-256 with batch size 16\n"
     ]
    },
    {
     "name": "stdout",
     "output_type": "stream",
     "text": [
      "[17:47:06] INFO: Processing items 241-256 with batch size 16\n"
     ]
    },
    {
     "name": "stderr",
     "output_type": "stream",
     "text": [
      "[17:47:07] INFO: Processing items 257-272 with batch size 16\n"
     ]
    },
    {
     "name": "stdout",
     "output_type": "stream",
     "text": [
      "[17:47:07] INFO: Processing items 257-272 with batch size 16\n"
     ]
    },
    {
     "name": "stderr",
     "output_type": "stream",
     "text": [
      "[17:47:08] INFO: Processing items 273-288 with batch size 16\n"
     ]
    },
    {
     "name": "stdout",
     "output_type": "stream",
     "text": [
      "[17:47:08] INFO: Processing items 273-288 with batch size 16\n"
     ]
    },
    {
     "name": "stderr",
     "output_type": "stream",
     "text": [
      "[17:47:09] INFO: Processing items 289-304 with batch size 16\n"
     ]
    },
    {
     "name": "stdout",
     "output_type": "stream",
     "text": [
      "[17:47:09] INFO: Processing items 289-304 with batch size 16\n"
     ]
    },
    {
     "name": "stderr",
     "output_type": "stream",
     "text": [
      "[17:47:10] INFO: Processing items 305-320 with batch size 16\n"
     ]
    },
    {
     "name": "stdout",
     "output_type": "stream",
     "text": [
      "[17:47:10] INFO: Processing items 305-320 with batch size 16\n"
     ]
    },
    {
     "name": "stderr",
     "output_type": "stream",
     "text": [
      "[17:47:11] INFO: Processing items 321-336 with batch size 16\n"
     ]
    },
    {
     "name": "stdout",
     "output_type": "stream",
     "text": [
      "[17:47:11] INFO: Processing items 321-336 with batch size 16\n"
     ]
    },
    {
     "name": "stderr",
     "output_type": "stream",
     "text": [
      "[17:47:12] INFO: Processing items 337-352 with batch size 16\n"
     ]
    },
    {
     "name": "stdout",
     "output_type": "stream",
     "text": [
      "[17:47:12] INFO: Processing items 337-352 with batch size 16\n"
     ]
    },
    {
     "name": "stderr",
     "output_type": "stream",
     "text": [
      "[17:47:14] INFO: Processing items 353-368 with batch size 16\n"
     ]
    },
    {
     "name": "stdout",
     "output_type": "stream",
     "text": [
      "[17:47:14] INFO: Processing items 353-368 with batch size 16\n"
     ]
    },
    {
     "name": "stderr",
     "output_type": "stream",
     "text": [
      "[17:47:15] INFO: Processing items 369-384 with batch size 16\n"
     ]
    },
    {
     "name": "stdout",
     "output_type": "stream",
     "text": [
      "[17:47:15] INFO: Processing items 369-384 with batch size 16\n"
     ]
    },
    {
     "name": "stderr",
     "output_type": "stream",
     "text": [
      "[17:47:17] INFO: Processing items 385-400 with batch size 16\n"
     ]
    },
    {
     "name": "stdout",
     "output_type": "stream",
     "text": [
      "[17:47:17] INFO: Processing items 385-400 with batch size 16\n"
     ]
    },
    {
     "name": "stderr",
     "output_type": "stream",
     "text": [
      "[17:47:18] INFO: Processing items 401-416 with batch size 16\n"
     ]
    },
    {
     "name": "stdout",
     "output_type": "stream",
     "text": [
      "[17:47:18] INFO: Processing items 401-416 with batch size 16\n"
     ]
    },
    {
     "name": "stderr",
     "output_type": "stream",
     "text": [
      "[17:47:19] INFO: Processing items 417-432 with batch size 16\n"
     ]
    },
    {
     "name": "stdout",
     "output_type": "stream",
     "text": [
      "[17:47:19] INFO: Processing items 417-432 with batch size 16\n"
     ]
    },
    {
     "name": "stderr",
     "output_type": "stream",
     "text": [
      "[17:47:20] INFO: Processing items 433-448 with batch size 16\n"
     ]
    },
    {
     "name": "stdout",
     "output_type": "stream",
     "text": [
      "[17:47:20] INFO: Processing items 433-448 with batch size 16\n"
     ]
    },
    {
     "name": "stderr",
     "output_type": "stream",
     "text": [
      "[17:47:21] INFO: Processing items 449-464 with batch size 16\n"
     ]
    },
    {
     "name": "stdout",
     "output_type": "stream",
     "text": [
      "[17:47:21] INFO: Processing items 449-464 with batch size 16\n"
     ]
    },
    {
     "name": "stderr",
     "output_type": "stream",
     "text": [
      "[17:47:22] INFO: Processing items 465-480 with batch size 16\n"
     ]
    },
    {
     "name": "stdout",
     "output_type": "stream",
     "text": [
      "[17:47:22] INFO: Processing items 465-480 with batch size 16\n"
     ]
    },
    {
     "name": "stderr",
     "output_type": "stream",
     "text": [
      "[17:47:23] INFO: Processing items 481-496 with batch size 16\n"
     ]
    },
    {
     "name": "stdout",
     "output_type": "stream",
     "text": [
      "[17:47:23] INFO: Processing items 481-496 with batch size 16\n"
     ]
    },
    {
     "name": "stderr",
     "output_type": "stream",
     "text": [
      "[17:47:24] INFO: Processing items 497-512 with batch size 16\n"
     ]
    },
    {
     "name": "stdout",
     "output_type": "stream",
     "text": [
      "[17:47:24] INFO: Processing items 497-512 with batch size 16\n"
     ]
    },
    {
     "name": "stderr",
     "output_type": "stream",
     "text": [
      "[17:47:26] INFO: Processing items 513-528 with batch size 16\n"
     ]
    },
    {
     "name": "stdout",
     "output_type": "stream",
     "text": [
      "[17:47:26] INFO: Processing items 513-528 with batch size 16\n"
     ]
    },
    {
     "name": "stderr",
     "output_type": "stream",
     "text": [
      "[17:47:27] INFO: Processing items 529-544 with batch size 16\n"
     ]
    },
    {
     "name": "stdout",
     "output_type": "stream",
     "text": [
      "[17:47:27] INFO: Processing items 529-544 with batch size 16\n"
     ]
    },
    {
     "name": "stderr",
     "output_type": "stream",
     "text": [
      "[17:47:28] INFO: Processing items 545-560 with batch size 16\n"
     ]
    },
    {
     "name": "stdout",
     "output_type": "stream",
     "text": [
      "[17:47:28] INFO: Processing items 545-560 with batch size 16\n"
     ]
    },
    {
     "name": "stderr",
     "output_type": "stream",
     "text": [
      "[17:47:29] INFO: Processing items 561-576 with batch size 16\n"
     ]
    },
    {
     "name": "stdout",
     "output_type": "stream",
     "text": [
      "[17:47:29] INFO: Processing items 561-576 with batch size 16\n"
     ]
    },
    {
     "name": "stderr",
     "output_type": "stream",
     "text": [
      "[17:47:30] INFO: Processing items 577-592 with batch size 16\n"
     ]
    },
    {
     "name": "stdout",
     "output_type": "stream",
     "text": [
      "[17:47:30] INFO: Processing items 577-592 with batch size 16\n"
     ]
    },
    {
     "name": "stderr",
     "output_type": "stream",
     "text": [
      "[17:47:31] INFO: Processing items 593-608 with batch size 16\n"
     ]
    },
    {
     "name": "stdout",
     "output_type": "stream",
     "text": [
      "[17:47:31] INFO: Processing items 593-608 with batch size 16\n"
     ]
    },
    {
     "name": "stderr",
     "output_type": "stream",
     "text": [
      "[17:47:33] INFO: Processing items 609-624 with batch size 16\n"
     ]
    },
    {
     "name": "stdout",
     "output_type": "stream",
     "text": [
      "[17:47:33] INFO: Processing items 609-624 with batch size 16\n"
     ]
    },
    {
     "name": "stderr",
     "output_type": "stream",
     "text": [
      "[17:47:35] INFO: Processing items 625-640 with batch size 16\n"
     ]
    },
    {
     "name": "stdout",
     "output_type": "stream",
     "text": [
      "[17:47:35] INFO: Processing items 625-640 with batch size 16\n"
     ]
    },
    {
     "name": "stderr",
     "output_type": "stream",
     "text": [
      "[17:47:36] INFO: Processing items 641-656 with batch size 16\n"
     ]
    },
    {
     "name": "stdout",
     "output_type": "stream",
     "text": [
      "[17:47:36] INFO: Processing items 641-656 with batch size 16\n"
     ]
    },
    {
     "name": "stderr",
     "output_type": "stream",
     "text": [
      "[17:47:37] INFO: Processing items 657-672 with batch size 16\n"
     ]
    },
    {
     "name": "stdout",
     "output_type": "stream",
     "text": [
      "[17:47:37] INFO: Processing items 657-672 with batch size 16\n"
     ]
    },
    {
     "name": "stderr",
     "output_type": "stream",
     "text": [
      "[17:47:39] INFO: Processing items 673-688 with batch size 16\n"
     ]
    },
    {
     "name": "stdout",
     "output_type": "stream",
     "text": [
      "[17:47:39] INFO: Processing items 673-688 with batch size 16\n"
     ]
    },
    {
     "name": "stderr",
     "output_type": "stream",
     "text": [
      "[17:47:40] INFO: Processing items 689-704 with batch size 16\n"
     ]
    },
    {
     "name": "stdout",
     "output_type": "stream",
     "text": [
      "[17:47:40] INFO: Processing items 689-704 with batch size 16\n"
     ]
    },
    {
     "name": "stderr",
     "output_type": "stream",
     "text": [
      "[17:47:41] INFO: Processing items 705-720 with batch size 16\n"
     ]
    },
    {
     "name": "stdout",
     "output_type": "stream",
     "text": [
      "[17:47:41] INFO: Processing items 705-720 with batch size 16\n"
     ]
    },
    {
     "name": "stderr",
     "output_type": "stream",
     "text": [
      "[17:47:42] INFO: Processing items 721-736 with batch size 16\n"
     ]
    },
    {
     "name": "stdout",
     "output_type": "stream",
     "text": [
      "[17:47:42] INFO: Processing items 721-736 with batch size 16\n"
     ]
    },
    {
     "name": "stderr",
     "output_type": "stream",
     "text": [
      "[17:47:44] INFO: Processing items 737-752 with batch size 16\n"
     ]
    },
    {
     "name": "stdout",
     "output_type": "stream",
     "text": [
      "[17:47:44] INFO: Processing items 737-752 with batch size 16\n"
     ]
    },
    {
     "name": "stderr",
     "output_type": "stream",
     "text": [
      "[17:47:46] INFO: Processing items 753-768 with batch size 16\n"
     ]
    },
    {
     "name": "stdout",
     "output_type": "stream",
     "text": [
      "[17:47:46] INFO: Processing items 753-768 with batch size 16\n"
     ]
    },
    {
     "name": "stderr",
     "output_type": "stream",
     "text": [
      "[17:47:47] INFO: Processing items 769-784 with batch size 16\n"
     ]
    },
    {
     "name": "stdout",
     "output_type": "stream",
     "text": [
      "[17:47:47] INFO: Processing items 769-784 with batch size 16\n"
     ]
    },
    {
     "name": "stderr",
     "output_type": "stream",
     "text": [
      "[17:47:48] INFO: Processing items 785-800 with batch size 16\n"
     ]
    },
    {
     "name": "stdout",
     "output_type": "stream",
     "text": [
      "[17:47:48] INFO: Processing items 785-800 with batch size 16\n"
     ]
    },
    {
     "name": "stderr",
     "output_type": "stream",
     "text": [
      "[17:47:49] INFO: Processing items 801-816 with batch size 16\n"
     ]
    },
    {
     "name": "stdout",
     "output_type": "stream",
     "text": [
      "[17:47:49] INFO: Processing items 801-816 with batch size 16\n"
     ]
    },
    {
     "name": "stderr",
     "output_type": "stream",
     "text": [
      "[17:47:51] INFO: Processing items 817-832 with batch size 16\n"
     ]
    },
    {
     "name": "stdout",
     "output_type": "stream",
     "text": [
      "[17:47:51] INFO: Processing items 817-832 with batch size 16\n"
     ]
    },
    {
     "name": "stderr",
     "output_type": "stream",
     "text": [
      "[17:47:52] INFO: Processing items 833-848 with batch size 16\n"
     ]
    },
    {
     "name": "stdout",
     "output_type": "stream",
     "text": [
      "[17:47:52] INFO: Processing items 833-848 with batch size 16\n"
     ]
    },
    {
     "name": "stderr",
     "output_type": "stream",
     "text": [
      "[17:47:53] INFO: Processing items 849-864 with batch size 16\n"
     ]
    },
    {
     "name": "stdout",
     "output_type": "stream",
     "text": [
      "[17:47:53] INFO: Processing items 849-864 with batch size 16\n"
     ]
    },
    {
     "name": "stderr",
     "output_type": "stream",
     "text": [
      "[17:47:54] INFO: Processing items 865-880 with batch size 16\n"
     ]
    },
    {
     "name": "stdout",
     "output_type": "stream",
     "text": [
      "[17:47:54] INFO: Processing items 865-880 with batch size 16\n"
     ]
    },
    {
     "name": "stderr",
     "output_type": "stream",
     "text": [
      "[17:47:56] INFO: Processing items 881-896 with batch size 16\n"
     ]
    },
    {
     "name": "stdout",
     "output_type": "stream",
     "text": [
      "[17:47:56] INFO: Processing items 881-896 with batch size 16\n"
     ]
    },
    {
     "name": "stderr",
     "output_type": "stream",
     "text": [
      "[17:47:57] INFO: Processing items 897-911 with batch size 15\n"
     ]
    },
    {
     "name": "stdout",
     "output_type": "stream",
     "text": [
      "[17:47:57] INFO: Processing items 897-911 with batch size 15\n"
     ]
    },
    {
     "data": {
      "image/png": "[encoded data removed]",
      "text/plain": [
       "<Figure size 2000x1600 with 7 Axes>"
      ]
     },
     "metadata": {},
     "output_type": "display_data"
    },
    {
     "name": "stderr",
     "output_type": "stream",
     "text": [
      "[17:48:00] INFO: Plagiarism detection pipeline completed\n"
     ]
    }
   ],
   "source": [
    "results = detector.run(\n",
    "    labels_file=labels_file, batch_size=Config.BATCH_SIZE, max_items=None\n",
    ")"
   ]
  },
  {
   "cell_type": "code",
   "execution_count": 40,
   "id": "81aad63e",
   "metadata": {},
   "outputs": [
    {
     "name": "stdout",
     "output_type": "stream",
     "text": [
      "\n",
      "Results Summary:\n",
      "  Accuracy:   0.7717\n",
      "  Precision:  0.5885\n",
      "  Recall:     0.5697\n",
      "  F1 Score:   0.5789\n",
      "  ROC AUC:    0.7244\n",
      "  PR AUC:     0.6777\n",
      "  Optimal Threshold: 0.6829\n"
     ]
    }
   ],
   "source": [
    "metrics = results[\"metrics\"]\n",
    "print(\"\\nResults Summary:\")\n",
    "print(f\"  Accuracy:   {metrics['accuracy']:.4f}\")\n",
    "print(f\"  Precision:  {metrics['precision']:.4f}\")\n",
    "print(f\"  Recall:     {metrics['recall']:.4f}\")\n",
    "print(f\"  F1 Score:   {metrics['f1']:.4f}\")\n",
    "print(f\"  ROC AUC:    {metrics['roc_auc']:.4f}\")\n",
    "print(f\"  PR AUC:     {metrics['pr_auc']:.4f}\")\n",
    "print(f\"  Optimal Threshold: {results['optimal_threshold']:.4f}\")"
   ]
  }
 ],
 "metadata": {
  "kernelspec": {
   "display_name": "aether",
   "language": "python",
   "name": "python3"
  },
  "language_info": {
   "codemirror_mode": {
    "name": "ipython",
    "version": 3
   },
   "file_extension": ".py",
   "mimetype": "text/x-python",
   "name": "python",
   "nbconvert_exporter": "python",
   "pygments_lexer": "ipython3",
   "version": "3.11.12"
  }
 },
 "nbformat": 4,
 "nbformat_minor": 5
}
